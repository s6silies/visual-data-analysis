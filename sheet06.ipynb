{
 "cells": [
  {
   "cell_type": "markdown",
   "id": "92a0836e",
   "metadata": {},
   "source": [
    "# Sheet 06"
   ]
  },
  {
   "cell_type": "markdown",
   "id": "f462c2fc",
   "metadata": {},
   "source": [
    "## Preamble"
   ]
  },
  {
   "cell_type": "markdown",
   "id": "3f7c6c28",
   "metadata": {},
   "source": [
    "Autors: Marten Ringwelski, Nico Ostermann, Simon Liessem"
   ]
  },
  {
   "cell_type": "markdown",
   "id": "a1bbbd45",
   "metadata": {},
   "source": [
    "Note that this notebook MUST be executed in order to get everything to work.\n",
    "The tasks can't be run individually. "
   ]
  },
  {
   "cell_type": "markdown",
   "id": "1ab973fc",
   "metadata": {},
   "source": [
    "Also eCampus does not allow for uploading nested directory structures which makes it hard to properly organize the files. The files are expected to be in the `data` directory which itself is placed next to this notebook.\n",
    "\n",
    "If you extract the zip file we handed in everything should work just fine."
   ]
  },
  {
   "cell_type": "markdown",
   "id": "5b476f10",
   "metadata": {},
   "source": [
    "Autoformatting if `jupyter-black` is installed."
   ]
  },
  {
   "cell_type": "code",
   "execution_count": 1,
   "id": "c6501019",
   "metadata": {},
   "outputs": [],
   "source": [
    "try:\n",
    "    import black\n",
    "    import jupyter_black\n",
    "\n",
    "    jupyter_black.load(\n",
    "        lab=False,\n",
    "        line_length=79,\n",
    "        verbosity=\"DEBUG\",\n",
    "        target_version=black.TargetVersion.PY310,\n",
    "    )\n",
    "except ImportError:\n",
    "    pass"
   ]
  },
  {
   "cell_type": "markdown",
   "id": "3dc11336",
   "metadata": {},
   "source": [
    "Import all we weed and more."
   ]
  },
  {
   "cell_type": "markdown",
   "id": "c7116a0c",
   "metadata": {},
   "source": [
    "Set seaborn default theme"
   ]
  },
  {
   "cell_type": "code",
   "execution_count": 2,
   "id": "05877eaf",
   "metadata": {},
   "outputs": [
    {
     "ename": "ModuleNotFoundError",
     "evalue": "No module named 'skimage'",
     "output_type": "error",
     "traceback": [
      "\u001b[0;31m---------------------------------------------------------------------------\u001b[0m",
      "\u001b[0;31mModuleNotFoundError\u001b[0m                       Traceback (most recent call last)",
      "Cell \u001b[0;32mIn[2], line 14\u001b[0m\n\u001b[1;32m     12\u001b[0m \u001b[38;5;28;01mimport\u001b[39;00m \u001b[38;5;21;01mscipy\u001b[39;00m \u001b[38;5;28;01mas\u001b[39;00m \u001b[38;5;21;01msp\u001b[39;00m\n\u001b[1;32m     13\u001b[0m \u001b[38;5;28;01mimport\u001b[39;00m \u001b[38;5;21;01mscipy\u001b[39;00m\u001b[38;5;21;01m.\u001b[39;00m\u001b[38;5;21;01msparse\u001b[39;00m\n\u001b[0;32m---> 14\u001b[0m \u001b[38;5;28;01mimport\u001b[39;00m \u001b[38;5;21;01mskimage\u001b[39;00m\n\u001b[1;32m     15\u001b[0m \u001b[38;5;28;01mfrom\u001b[39;00m \u001b[38;5;21;01mdash\u001b[39;00m \u001b[38;5;28;01mimport\u001b[39;00m Dash, html, dcc, callback, Output, Input, State\n\u001b[1;32m     16\u001b[0m \u001b[38;5;28;01mfrom\u001b[39;00m \u001b[38;5;21;01mjupyter_dash\u001b[39;00m \u001b[38;5;28;01mimport\u001b[39;00m JupyterDash\n",
      "\u001b[0;31mModuleNotFoundError\u001b[0m: No module named 'skimage'"
     ]
    }
   ],
   "source": [
    "import seaborn as sns\n",
    "import pandas as pd\n",
    "import matplotlib as mpl\n",
    "import matplotlib.pyplot as plt\n",
    "import numpy as np\n",
    "import sklearn as sk\n",
    "from sklearn.feature_selection import f_classif, SelectKBest\n",
    "import math as m\n",
    "import plotly.express as px\n",
    "import sklearn.manifold\n",
    "import sklearn.discriminant_analysis\n",
    "import scipy as sp\n",
    "import scipy.sparse\n",
    "import skimage\n",
    "from dash import Dash, html, dcc, callback, Output, Input, State\n",
    "from jupyter_dash import JupyterDash\n",
    "import dash_bootstrap_components as dbc"
   ]
  },
  {
   "cell_type": "markdown",
   "id": "049365eb",
   "metadata": {},
   "source": [
    "Set seaborn default theme"
   ]
  },
  {
   "cell_type": "code",
   "execution_count": null,
   "id": "6962148e",
   "metadata": {},
   "outputs": [],
   "source": [
    "sns.set_theme()"
   ]
  },
  {
   "cell_type": "markdown",
   "id": "f702c2e1",
   "metadata": {},
   "source": [
    "If needed tweak parameters of matplotlib.\n",
    "Here we increase the size and dpi to bet a bigger but still high-res image."
   ]
  },
  {
   "cell_type": "code",
   "execution_count": null,
   "id": "e64dba3e",
   "metadata": {},
   "outputs": [],
   "source": [
    "mpl.rcParams[\"figure.dpi\"] = 200\n",
    "mpl.rcParams[\"figure.figsize\"] = (20, 15)\n",
    "%matplotlib inline"
   ]
  },
  {
   "cell_type": "markdown",
   "id": "5a21f26a",
   "metadata": {},
   "source": [
    "Disable future warnings as we get a lot of them and don't really care for this sheet."
   ]
  },
  {
   "cell_type": "code",
   "execution_count": 3,
   "id": "5009ee59",
   "metadata": {},
   "outputs": [],
   "source": [
    "import warnings\n",
    "\n",
    "warnings.simplefilter(action=\"ignore\", category=FutureWarning)"
   ]
  },
  {
   "cell_type": "markdown",
   "id": "83f5488d",
   "metadata": {},
   "source": [
    "# Exercise 2"
   ]
  },
  {
   "cell_type": "markdown",
   "id": "f874b161",
   "metadata": {},
   "source": [
    "### a)"
   ]
  },
  {
   "cell_type": "markdown",
   "id": "70ad23fa",
   "metadata": {},
   "source": [
    "Vertices: \n",
    "The first two integers, and last two integers give the beginning and end of a double linked list with outgoing, incoming edges of the vertex, respectively.\n",
    "Edges:\n",
    "The first 4 integers store the next edge and the previous edge, for each of the double linked lists.\n",
    "The last two integers store the first vertex (source) and second vertex (target)\n",
    "    \n",
    "To reduce memory consumption, the double linked lists can be replaced with single linked lists.\n",
    "This leads to the second and forth integer of the vertex, and the second and forth integer of the edge to be omittable.\n"
   ]
  },
  {
   "cell_type": "markdown",
   "id": "8bd59e48",
   "metadata": {},
   "source": [
    "### b)"
   ]
  },
  {
   "cell_type": "markdown",
   "id": "419269d6",
   "metadata": {},
   "source": [
    "In the case of the graph being a directed Graph, we assume the desired edge has u as its first and v as its second vertex. "
   ]
  },
  {
   "cell_type": "markdown",
   "id": "44a77601",
   "metadata": {},
   "source": [
    "Vertex u\n",
    "\n",
    "for edge in u.outgoing_edges: \n",
    "***\n",
    "    if edge.second_edge == v: \n",
    "***\n",
    "        return edge.index\n",
    "***\n",
    "return None"
   ]
  },
  {
   "cell_type": "markdown",
   "id": "b0921741",
   "metadata": {},
   "source": [
    "### c)"
   ]
  },
  {
   "cell_type": "markdown",
   "id": "45495001",
   "metadata": {},
   "source": [
    "The modifications serve as a way to further spread the choosing of the pivot elements by cutting the cost of all edges within the chosen path between two pivot elements in half.\n",
    "This serves the purpose of a wider spread selection of pivot elements, instead of the pivot elements clustering within the area of the first two."
   ]
  },
  {
   "cell_type": "markdown",
   "id": "bffa80ea",
   "metadata": {},
   "source": [
    "### d)"
   ]
  },
  {
   "cell_type": "markdown",
   "id": "255726c9",
   "metadata": {},
   "source": [
    "Geometric zoom: zooming closer to the actual target, i.e. making a vertex bigger\n",
    "Detail zoom: increasing the level of detail on a given target"
   ]
  },
  {
   "cell_type": "markdown",
   "id": "4392757a",
   "metadata": {},
   "source": [
    "# Exercise 3"
   ]
  },
  {
   "cell_type": "markdown",
   "id": "843a5e0e",
   "metadata": {},
   "source": [
    "### a)"
   ]
  },
  {
   "cell_type": "markdown",
   "id": "5711341f",
   "metadata": {},
   "source": [
    "Read data and use mean for missing data."
   ]
  },
  {
   "cell_type": "code",
   "execution_count": 4,
   "id": "1897ffd6",
   "metadata": {},
   "outputs": [
    {
     "ename": "TypeError",
     "evalue": "Could not convert ['ControlControlControlControlControlControlControlControlControlControlControlControlControlControlControlControlControlControlControlControlControlControlControlControlControlControlControlControlControlControlControlControlControlControlControlControlControlControlControlControlControlControlControlControlControlControlControlControlControlControlControlControlControlControlControlControlControlControlControlControlControlControlControlControlControlControlControlControlControlControlControlControlControlControlControlControlControlControlControlControlControlControlControlControlControlControlControlControlControlControlControlControlControlControlControlControlControlControlControlControlControlControlControlControlControlControlControlControlControlControlControlControlControlControlControlControlControlControlControlControlControlControlControlControlControlControlControlControlControlControlControlControlControlControlControlControlControlControlControlControlControlControlControlControlControlControlControlControlControlControlControlControlControlControlControlControlControlControlControlControlControlControlControlControlControlControlControlControlControlControlControlControlControlControlControlControlControlControlControlControlControlControlControlControlControlControlControlControlControlControlControlControlControlControlControlControlControlControlControlControlControlControlControlControlControlControlControlControlControlControlControlControlControlControlControlControlControlControlControlControlControlControlControlControlControlControlControlControlControlControlControlControlControlControlControlControlControlControlControlControlControlControlControlControlControlControlControlControlControlControlControlControlControlControlControlControlControlControlControlControlControlControlControlControlControlControlControlControlControlControlControlControlControlControlControlControlControlControlControlControlControlControlControlControlControlControlControlControlControlControlControlControlControlControlControlControlControlControlControlControlControlControlControlControlControlControlControlControlControlControlControlControlControlControlControlControlControlControlControlControlControlControlControlControlControlControlControlControlControlControlControlControlControlControlControlControlControlControlControlControlControlControlControlControlControlControlControlControlControlControlControlControlControlControlControlControlControlControlControlControlControlControlControlControlControlControlControlControlControlControlControlControlControlControlControlControlControlControlControlControlControlControlControlControlControlControlControlControlControlControlControlControlControlControlControlControlControlControlControlControlControlControlControlControlControlControlControlControlControlControlControlControlControlControlControlControlControlControlControlControlControlControlControlControlControlControlControlControlControlControlControlControlControlControlControlControlControlControlControlControlControlControlControlControlControlControlControlControlControlControlControlControlControlControlControlControlControlControlControlControlControlControlControlControlControlControlControlControlControlControlControlControlControlControlControlControlControlControlControlControlControlControlControlControlControlControlControlControlControlControlControlControlControlControlControlControlControlControlControlControlControlControlControlControlControlControlControlControlControlControlControlControlControlControlControlControlControlControlControlControlControlControlControlControlControlControlControlControlControlControlControlControlControlControlControlControlControlControlControlControlControlControlControlControlControlControlControlControlControlControlControlControlControlControlControlControlControlControlControlControlControlControlControlControlControlControlControlControlControlControlTs65DnTs65DnTs65DnTs65DnTs65DnTs65DnTs65DnTs65DnTs65DnTs65DnTs65DnTs65DnTs65DnTs65DnTs65DnTs65DnTs65DnTs65DnTs65DnTs65DnTs65DnTs65DnTs65DnTs65DnTs65DnTs65DnTs65DnTs65DnTs65DnTs65DnTs65DnTs65DnTs65DnTs65DnTs65DnTs65DnTs65DnTs65DnTs65DnTs65DnTs65DnTs65DnTs65DnTs65DnTs65DnTs65DnTs65DnTs65DnTs65DnTs65DnTs65DnTs65DnTs65DnTs65DnTs65DnTs65DnTs65DnTs65DnTs65DnTs65DnTs65DnTs65DnTs65DnTs65DnTs65DnTs65DnTs65DnTs65DnTs65DnTs65DnTs65DnTs65DnTs65DnTs65DnTs65DnTs65DnTs65DnTs65DnTs65DnTs65DnTs65DnTs65DnTs65DnTs65DnTs65DnTs65DnTs65DnTs65DnTs65DnTs65DnTs65DnTs65DnTs65DnTs65DnTs65DnTs65DnTs65DnTs65DnTs65DnTs65DnTs65DnTs65DnTs65DnTs65DnTs65DnTs65DnTs65DnTs65DnTs65DnTs65DnTs65DnTs65DnTs65DnTs65DnTs65DnTs65DnTs65DnTs65DnTs65DnTs65DnTs65DnTs65DnTs65DnTs65DnTs65DnTs65DnTs65DnTs65DnTs65DnTs65DnTs65DnTs65DnTs65DnTs65DnTs65DnTs65DnTs65DnTs65DnTs65DnTs65DnTs65DnTs65DnTs65DnTs65DnTs65DnTs65DnTs65DnTs65DnTs65DnTs65DnTs65DnTs65DnTs65DnTs65DnTs65DnTs65DnTs65DnTs65DnTs65DnTs65DnTs65DnTs65DnTs65DnTs65DnTs65DnTs65DnTs65DnTs65DnTs65DnTs65DnTs65DnTs65DnTs65DnTs65DnTs65DnTs65DnTs65DnTs65DnTs65DnTs65DnTs65DnTs65DnTs65DnTs65DnTs65DnTs65DnTs65DnTs65DnTs65DnTs65DnTs65DnTs65DnTs65DnTs65DnTs65DnTs65DnTs65DnTs65DnTs65DnTs65DnTs65DnTs65DnTs65DnTs65DnTs65DnTs65DnTs65DnTs65DnTs65DnTs65DnTs65DnTs65DnTs65DnTs65DnTs65DnTs65DnTs65DnTs65DnTs65DnTs65DnTs65DnTs65DnTs65DnTs65DnTs65DnTs65DnTs65DnTs65DnTs65DnTs65DnTs65DnTs65DnTs65DnTs65DnTs65DnTs65DnTs65DnTs65DnTs65DnTs65DnTs65DnTs65DnTs65DnTs65DnTs65DnTs65DnTs65DnTs65DnTs65DnTs65DnTs65DnTs65DnTs65DnTs65DnTs65DnTs65DnTs65DnTs65DnTs65DnTs65DnTs65DnTs65DnTs65DnTs65DnTs65DnTs65DnTs65DnTs65DnTs65DnTs65DnTs65DnTs65DnTs65DnTs65DnTs65DnTs65DnTs65DnTs65DnTs65DnTs65DnTs65DnTs65DnTs65DnTs65DnTs65DnTs65DnTs65DnTs65DnTs65DnTs65DnTs65DnTs65DnTs65DnTs65DnTs65DnTs65DnTs65DnTs65DnTs65DnTs65DnTs65DnTs65DnTs65DnTs65DnTs65DnTs65DnTs65DnTs65DnTs65DnTs65DnTs65DnTs65DnTs65DnTs65DnTs65DnTs65DnTs65DnTs65DnTs65DnTs65DnTs65DnTs65DnTs65DnTs65DnTs65DnTs65DnTs65DnTs65DnTs65DnTs65DnTs65DnTs65DnTs65DnTs65DnTs65DnTs65DnTs65DnTs65DnTs65DnTs65DnTs65DnTs65DnTs65DnTs65DnTs65DnTs65DnTs65DnTs65DnTs65DnTs65DnTs65DnTs65DnTs65DnTs65DnTs65DnTs65DnTs65DnTs65DnTs65DnTs65DnTs65DnTs65DnTs65DnTs65DnTs65DnTs65DnTs65DnTs65DnTs65DnTs65DnTs65DnTs65DnTs65DnTs65DnTs65DnTs65DnTs65DnTs65DnTs65DnTs65DnTs65DnTs65DnTs65DnTs65DnTs65DnTs65DnTs65DnTs65DnTs65DnTs65DnTs65DnTs65DnTs65DnTs65DnTs65DnTs65DnTs65DnTs65DnTs65DnTs65DnTs65DnTs65DnTs65DnTs65DnTs65DnTs65DnTs65DnTs65DnTs65DnTs65DnTs65DnTs65DnTs65DnTs65DnTs65DnTs65DnTs65DnTs65DnTs65DnTs65DnTs65DnTs65DnTs65DnTs65DnTs65DnTs65DnTs65DnTs65DnTs65DnTs65DnTs65DnTs65DnTs65DnTs65DnTs65DnTs65DnTs65DnTs65DnTs65DnTs65DnTs65DnTs65DnTs65DnTs65DnTs65DnTs65DnTs65DnTs65DnTs65DnTs65DnTs65DnTs65DnTs65DnTs65DnTs65DnTs65DnTs65DnTs65DnTs65DnTs65DnTs65DnTs65DnTs65DnTs65DnTs65DnTs65DnTs65DnTs65DnTs65DnTs65DnTs65DnTs65DnTs65DnTs65DnTs65DnTs65DnTs65DnTs65DnTs65DnTs65DnTs65DnTs65DnTs65DnTs65DnTs65DnTs65DnTs65DnTs65DnTs65DnTs65DnTs65DnTs65DnTs65DnTs65DnTs65DnTs65DnTs65DnTs65DnTs65DnTs65DnTs65DnTs65DnTs65DnTs65DnTs65DnTs65DnTs65DnTs65DnTs65DnTs65Dn'\n 'MemantineMemantineMemantineMemantineMemantineMemantineMemantineMemantineMemantineMemantineMemantineMemantineMemantineMemantineMemantineMemantineMemantineMemantineMemantineMemantineMemantineMemantineMemantineMemantineMemantineMemantineMemantineMemantineMemantineMemantineMemantineMemantineMemantineMemantineMemantineMemantineMemantineMemantineMemantineMemantineMemantineMemantineMemantineMemantineMemantineMemantineMemantineMemantineMemantineMemantineMemantineMemantineMemantineMemantineMemantineMemantineMemantineMemantineMemantineMemantineMemantineMemantineMemantineMemantineMemantineMemantineMemantineMemantineMemantineMemantineMemantineMemantineMemantineMemantineMemantineMemantineMemantineMemantineMemantineMemantineMemantineMemantineMemantineMemantineMemantineMemantineMemantineMemantineMemantineMemantineMemantineMemantineMemantineMemantineMemantineMemantineMemantineMemantineMemantineMemantineMemantineMemantineMemantineMemantineMemantineMemantineMemantineMemantineMemantineMemantineMemantineMemantineMemantineMemantineMemantineMemantineMemantineMemantineMemantineMemantineMemantineMemantineMemantineMemantineMemantineMemantineMemantineMemantineMemantineMemantineMemantineMemantineMemantineMemantineMemantineMemantineMemantineMemantineMemantineMemantineMemantineMemantineMemantineMemantineMemantineMemantineMemantineMemantineMemantineMemantineMemantineMemantineMemantineMemantineMemantineMemantineMemantineMemantineMemantineMemantineMemantineMemantineMemantineMemantineMemantineMemantineMemantineMemantineMemantineMemantineMemantineMemantineMemantineMemantineMemantineMemantineMemantineMemantineMemantineMemantineMemantineMemantineMemantineMemantineMemantineMemantineMemantineMemantineMemantineMemantineMemantineMemantineMemantineMemantineMemantineMemantineMemantineMemantineMemantineMemantineMemantineMemantineMemantineMemantineMemantineMemantineMemantineMemantineMemantineMemantineMemantineMemantineMemantineMemantineMemantineMemantineMemantineMemantineMemantineMemantineMemantineMemantineMemantineMemantineMemantineMemantineMemantineMemantineMemantineMemantineMemantineMemantineMemantineMemantineMemantineMemantineMemantineMemantineMemantineMemantineMemantineMemantineMemantineMemantineMemantineMemantineMemantineMemantineMemantineMemantineMemantineMemantineMemantineMemantineMemantineMemantineMemantineMemantineMemantineMemantineMemantineMemantineMemantineMemantineMemantineMemantineMemantineMemantineMemantineMemantineMemantineMemantineMemantineMemantineMemantineMemantineMemantineMemantineMemantineMemantineMemantineMemantineMemantineMemantineMemantineMemantineMemantineMemantineMemantineMemantineMemantineMemantineMemantineMemantineMemantineMemantineMemantineMemantineMemantineMemantineSalineSalineSalineSalineSalineSalineSalineSalineSalineSalineSalineSalineSalineSalineSalineSalineSalineSalineSalineSalineSalineSalineSalineSalineSalineSalineSalineSalineSalineSalineSalineSalineSalineSalineSalineSalineSalineSalineSalineSalineSalineSalineSalineSalineSalineSalineSalineSalineSalineSalineSalineSalineSalineSalineSalineSalineSalineSalineSalineSalineSalineSalineSalineSalineSalineSalineSalineSalineSalineSalineSalineSalineSalineSalineSalineSalineSalineSalineSalineSalineSalineSalineSalineSalineSalineSalineSalineSalineSalineSalineSalineSalineSalineSalineSalineSalineSalineSalineSalineSalineSalineSalineSalineSalineSalineSalineSalineSalineSalineSalineSalineSalineSalineSalineSalineSalineSalineSalineSalineSalineSalineSalineSalineSalineSalineSalineSalineSalineSalineSalineSalineSalineSalineSalineSalineSalineSalineSalineSalineSalineSalineSalineSalineSalineSalineSalineSalineSalineSalineSalineSalineSalineSalineSalineSalineSalineSalineSalineSalineSalineSalineSalineSalineSalineSalineSalineSalineSalineSalineSalineSalineSalineSalineSalineSalineSalineSalineSalineSalineSalineSalineSalineSalineSalineSalineSalineSalineSalineSalineSalineSalineSalineSalineSalineSalineSalineSalineSalineSalineSalineSalineSalineSalineSalineSalineSalineSalineSalineSalineSalineSalineSalineSalineSalineSalineSalineSalineSalineSalineSalineSalineSalineSalineSalineSalineSalineSalineSalineSalineSalineSalineSalineSalineSalineSalineSalineSalineSalineSalineSalineSalineSalineSalineSalineSalineSalineSalineSalineSalineSalineSalineSalineSalineSalineSalineSalineSalineSalineSalineSalineSalineSalineSalineSalineSalineSalineSalineSalineSalineSalineMemantineMemantineMemantineMemantineMemantineMemantineMemantineMemantineMemantineMemantineMemantineMemantineMemantineMemantineMemantineMemantineMemantineMemantineMemantineMemantineMemantineMemantineMemantineMemantineMemantineMemantineMemantineMemantineMemantineMemantineMemantineMemantineMemantineMemantineMemantineMemantineMemantineMemantineMemantineMemantineMemantineMemantineMemantineMemantineMemantineMemantineMemantineMemantineMemantineMemantineMemantineMemantineMemantineMemantineMemantineMemantineMemantineMemantineMemantineMemantineMemantineMemantineMemantineMemantineMemantineMemantineMemantineMemantineMemantineMemantineMemantineMemantineMemantineMemantineMemantineMemantineMemantineMemantineMemantineMemantineMemantineMemantineMemantineMemantineMemantineMemantineMemantineMemantineMemantineMemantineMemantineMemantineMemantineMemantineMemantineMemantineMemantineMemantineMemantineMemantineMemantineMemantineMemantineMemantineMemantineMemantineMemantineMemantineMemantineMemantineMemantineMemantineMemantineMemantineMemantineMemantineMemantineMemantineMemantineMemantineMemantineMemantineMemantineMemantineMemantineMemantineMemantineMemantineMemantineMemantineMemantineMemantineMemantineMemantineMemantineMemantineMemantineMemantineMemantineMemantineMemantineMemantineMemantineMemantineMemantineMemantineMemantineMemantineMemantineMemantineMemantineMemantineMemantineMemantineMemantineMemantineMemantineMemantineMemantineMemantineMemantineMemantineMemantineMemantineMemantineMemantineMemantineMemantineMemantineMemantineMemantineMemantineMemantineMemantineMemantineMemantineMemantineMemantineMemantineMemantineMemantineMemantineMemantineMemantineMemantineMemantineMemantineMemantineMemantineMemantineMemantineMemantineMemantineMemantineMemantineMemantineMemantineMemantineMemantineMemantineMemantineMemantineMemantineMemantineMemantineMemantineMemantineMemantineMemantineMemantineMemantineMemantineMemantineMemantineMemantineMemantineMemantineMemantineMemantineMemantineMemantineMemantineMemantineMemantineMemantineMemantineMemantineMemantineMemantineMemantineMemantineMemantineMemantineMemantineMemantineMemantineMemantineMemantineMemantineMemantineMemantineMemantineMemantineMemantineMemantineMemantineMemantineMemantineMemantineMemantineMemantineMemantineMemantineMemantineMemantineMemantineMemantineMemantineMemantineMemantineMemantineMemantineMemantineMemantineMemantineMemantineMemantineMemantineMemantineMemantineSalineSalineSalineSalineSalineSalineSalineSalineSalineSalineSalineSalineSalineSalineSalineSalineSalineSalineSalineSalineSalineSalineSalineSalineSalineSalineSalineSalineSalineSalineSalineSalineSalineSalineSalineSalineSalineSalineSalineSalineSalineSalineSalineSalineSalineSalineSalineSalineSalineSalineSalineSalineSalineSalineSalineSalineSalineSalineSalineSalineSalineSalineSalineSalineSalineSalineSalineSalineSalineSalineSalineSalineSalineSalineSalineSalineSalineSalineSalineSalineSalineSalineSalineSalineSalineSalineSalineSalineSalineSalineSalineSalineSalineSalineSalineSalineSalineSalineSalineSalineSalineSalineSalineSalineSalineSalineSalineSalineSalineSalineSalineSalineSalineSalineSalineSalineSalineSalineSalineSalineSalineSalineSalineSalineSalineSalineSalineSalineSalineSalineSalineSalineSalineSalineSalineSalineSalineSalineSalineSalineSalineSalineSalineSalineSalineSalineSalineSalineSalineSalineSalineSalineSalineSalineSalineSalineSalineSalineSalineSalineSalineSalineSalineSalineSalineSalineSalineSalineSalineSalineSalineSalineSalineSalineSalineSalineSalineSalineSalineSalineSalineSalineSalineSalineSalineSalineSalineSalineSalineSalineSalineSalineSalineSalineSalineSalineSalineSalineSalineSalineSalineSalineSalineSalineSalineSalineSalineSalineSalineSalineSalineSalineSalineSalineSalineSalineSalineSalineSalineSalineSalineSalineSalineSalineSalineSalineSalineSalineSalineSalineSalineSalineSalineSalineSalineSalineSalineSalineSalineSaline'\n 'C/SC/SC/SC/SC/SC/SC/SC/SC/SC/SC/SC/SC/SC/SC/SC/SC/SC/SC/SC/SC/SC/SC/SC/SC/SC/SC/SC/SC/SC/SC/SC/SC/SC/SC/SC/SC/SC/SC/SC/SC/SC/SC/SC/SC/SC/SC/SC/SC/SC/SC/SC/SC/SC/SC/SC/SC/SC/SC/SC/SC/SC/SC/SC/SC/SC/SC/SC/SC/SC/SC/SC/SC/SC/SC/SC/SC/SC/SC/SC/SC/SC/SC/SC/SC/SC/SC/SC/SC/SC/SC/SC/SC/SC/SC/SC/SC/SC/SC/SC/SC/SC/SC/SC/SC/SC/SC/SC/SC/SC/SC/SC/SC/SC/SC/SC/SC/SC/SC/SC/SC/SC/SC/SC/SC/SC/SC/SC/SC/SC/SC/SC/SC/SC/SC/SC/SC/SC/SC/SC/SC/SC/SC/SC/SC/SC/SC/SC/SC/SC/SS/CS/CS/CS/CS/CS/CS/CS/CS/CS/CS/CS/CS/CS/CS/CS/CS/CS/CS/CS/CS/CS/CS/CS/CS/CS/CS/CS/CS/CS/CS/CS/CS/CS/CS/CS/CS/CS/CS/CS/CS/CS/CS/CS/CS/CS/CS/CS/CS/CS/CS/CS/CS/CS/CS/CS/CS/CS/CS/CS/CS/CS/CS/CS/CS/CS/CS/CS/CS/CS/CS/CS/CS/CS/CS/CS/CS/CS/CS/CS/CS/CS/CS/CS/CS/CS/CS/CS/CS/CS/CS/CS/CS/CS/CS/CS/CS/CS/CS/CS/CS/CS/CS/CS/CS/CS/CS/CS/CS/CS/CS/CS/CS/CS/CS/CS/CS/CS/CS/CS/CS/CS/CS/CS/CS/CS/CS/CS/CS/CS/CS/CS/CS/CS/CS/CS/CS/CS/CS/CS/CS/CS/CS/CS/CS/CS/CS/CS/CS/CS/CC/SC/SC/SC/SC/SC/SC/SC/SC/SC/SC/SC/SC/SC/SC/SC/SC/SC/SC/SC/SC/SC/SC/SC/SC/SC/SC/SC/SC/SC/SC/SC/SC/SC/SC/SC/SC/SC/SC/SC/SC/SC/SC/SC/SC/SC/SC/SC/SC/SC/SC/SC/SC/SC/SC/SC/SC/SC/SC/SC/SC/SC/SC/SC/SC/SC/SC/SC/SC/SC/SC/SC/SC/SC/SC/SC/SC/SC/SC/SC/SC/SC/SC/SC/SC/SC/SC/SC/SC/SC/SC/SC/SC/SC/SC/SC/SC/SC/SC/SC/SC/SC/SC/SC/SC/SC/SC/SC/SC/SC/SC/SC/SC/SC/SC/SC/SC/SC/SC/SC/SC/SC/SC/SC/SC/SC/SC/SC/SC/SC/SC/SC/SC/SC/SC/SS/CS/CS/CS/CS/CS/CS/CS/CS/CS/CS/CS/CS/CS/CS/CS/CS/CS/CS/CS/CS/CS/CS/CS/CS/CS/CS/CS/CS/CS/CS/CS/CS/CS/CS/CS/CS/CS/CS/CS/CS/CS/CS/CS/CS/CS/CS/CS/CS/CS/CS/CS/CS/CS/CS/CS/CS/CS/CS/CS/CS/CS/CS/CS/CS/CS/CS/CS/CS/CS/CS/CS/CS/CS/CS/CS/CS/CS/CS/CS/CS/CS/CS/CS/CS/CS/CS/CS/CS/CS/CS/CS/CS/CS/CS/CS/CS/CS/CS/CS/CS/CS/CS/CS/CS/CS/CS/CS/CS/CS/CS/CS/CS/CS/CS/CS/CS/CS/CS/CS/CS/CS/CS/CS/CS/CS/CS/CS/CS/CS/CS/CS/CS/CS/CS/CC/SC/SC/SC/SC/SC/SC/SC/SC/SC/SC/SC/SC/SC/SC/SC/SC/SC/SC/SC/SC/SC/SC/SC/SC/SC/SC/SC/SC/SC/SC/SC/SC/SC/SC/SC/SC/SC/SC/SC/SC/SC/SC/SC/SC/SC/SC/SC/SC/SC/SC/SC/SC/SC/SC/SC/SC/SC/SC/SC/SC/SC/SC/SC/SC/SC/SC/SC/SC/SC/SC/SC/SC/SC/SC/SC/SC/SC/SC/SC/SC/SC/SC/SC/SC/SC/SC/SC/SC/SC/SC/SC/SC/SC/SC/SC/SC/SC/SC/SC/SC/SC/SC/SC/SC/SC/SC/SC/SC/SC/SC/SC/SC/SC/SC/SC/SC/SC/SC/SC/SC/SC/SC/SC/SC/SC/SC/SC/SC/SC/SC/SC/SC/SC/SC/SS/CS/CS/CS/CS/CS/CS/CS/CS/CS/CS/CS/CS/CS/CS/CS/CS/CS/CS/CS/CS/CS/CS/CS/CS/CS/CS/CS/CS/CS/CS/CS/CS/CS/CS/CS/CS/CS/CS/CS/CS/CS/CS/CS/CS/CS/CS/CS/CS/CS/CS/CS/CS/CS/CS/CS/CS/CS/CS/CS/CS/CS/CS/CS/CS/CS/CS/CS/CS/CS/CS/CS/CS/CS/CS/CS/CS/CS/CS/CS/CS/CS/CS/CS/CS/CS/CS/CS/CS/CS/CS/CS/CS/CS/CS/CS/CS/CS/CS/CS/CS/CS/CS/CS/CS/CS/CS/CS/CS/CS/CS/CS/CS/CS/CS/CS/CS/CS/CS/CS/CS/CS/CS/CS/CS/CS/CS/CS/CS/CS/CS/CS/CS/CS/CS/CC/SC/SC/SC/SC/SC/SC/SC/SC/SC/SC/SC/SC/SC/SC/SC/SC/SC/SC/SC/SC/SC/SC/SC/SC/SC/SC/SC/SC/SC/SC/SC/SC/SC/SC/SC/SC/SC/SC/SC/SC/SC/SC/SC/SC/SC/SC/SC/SC/SC/SC/SC/SC/SC/SC/SC/SC/SC/SC/SC/SC/SC/SC/SC/SC/SC/SC/SC/SC/SC/SC/SC/SC/SC/SC/SC/SC/SC/SC/SC/SC/SC/SC/SC/SC/SC/SC/SC/SC/SC/SC/SC/SC/SC/SC/SC/SC/SC/SC/SC/SC/SC/SC/SC/SC/SS/CS/CS/CS/CS/CS/CS/CS/CS/CS/CS/CS/CS/CS/CS/CS/CS/CS/CS/CS/CS/CS/CS/CS/CS/CS/CS/CS/CS/CS/CS/CS/CS/CS/CS/CS/CS/CS/CS/CS/CS/CS/CS/CS/CS/CS/CS/CS/CS/CS/CS/CS/CS/CS/CS/CS/CS/CS/CS/CS/CS/CS/CS/CS/CS/CS/CS/CS/CS/CS/CS/CS/CS/CS/CS/CS/CS/CS/CS/CS/CS/CS/CS/CS/CS/CS/CS/CS/CS/CS/CS/CS/CS/CS/CS/CS/CS/CS/CS/CS/CS/CS/CS/CS/CS/CS/CS/CS/CS/CS/CS/CS/CS/CS/CS/CS/CS/CS/CS/CS/CS/CS/CS/CS/CS/CS/CS/CS/CS/CS/CS/CS/CS/CS/CS/C'\n 'c-CS-mc-CS-mc-CS-mc-CS-mc-CS-mc-CS-mc-CS-mc-CS-mc-CS-mc-CS-mc-CS-mc-CS-mc-CS-mc-CS-mc-CS-mc-CS-mc-CS-mc-CS-mc-CS-mc-CS-mc-CS-mc-CS-mc-CS-mc-CS-mc-CS-mc-CS-mc-CS-mc-CS-mc-CS-mc-CS-mc-CS-mc-CS-mc-CS-mc-CS-mc-CS-mc-CS-mc-CS-mc-CS-mc-CS-mc-CS-mc-CS-mc-CS-mc-CS-mc-CS-mc-CS-mc-CS-mc-CS-mc-CS-mc-CS-mc-CS-mc-CS-mc-CS-mc-CS-mc-CS-mc-CS-mc-CS-mc-CS-mc-CS-mc-CS-mc-CS-mc-CS-mc-CS-mc-CS-mc-CS-mc-CS-mc-CS-mc-CS-mc-CS-mc-CS-mc-CS-mc-CS-mc-CS-mc-CS-mc-CS-mc-CS-mc-CS-mc-CS-mc-CS-mc-CS-mc-CS-mc-CS-mc-CS-mc-CS-mc-CS-mc-CS-mc-CS-mc-CS-mc-CS-mc-CS-mc-CS-mc-CS-mc-CS-mc-CS-mc-CS-mc-CS-mc-CS-mc-CS-mc-CS-mc-CS-mc-CS-mc-CS-mc-CS-mc-CS-mc-CS-mc-CS-mc-CS-mc-CS-mc-CS-mc-CS-mc-CS-mc-CS-mc-CS-mc-CS-mc-CS-mc-CS-mc-CS-mc-CS-mc-CS-mc-CS-mc-CS-mc-CS-mc-CS-mc-CS-mc-CS-mc-CS-mc-CS-mc-CS-mc-CS-mc-CS-mc-CS-mc-CS-mc-CS-mc-CS-mc-CS-mc-CS-mc-CS-mc-CS-mc-CS-mc-CS-mc-CS-mc-CS-mc-CS-mc-CS-mc-CS-mc-CS-mc-CS-mc-CS-mc-CS-mc-CS-mc-CS-mc-SC-mc-SC-mc-SC-mc-SC-mc-SC-mc-SC-mc-SC-mc-SC-mc-SC-mc-SC-mc-SC-mc-SC-mc-SC-mc-SC-mc-SC-mc-SC-mc-SC-mc-SC-mc-SC-mc-SC-mc-SC-mc-SC-mc-SC-mc-SC-mc-SC-mc-SC-mc-SC-mc-SC-mc-SC-mc-SC-mc-SC-mc-SC-mc-SC-mc-SC-mc-SC-mc-SC-mc-SC-mc-SC-mc-SC-mc-SC-mc-SC-mc-SC-mc-SC-mc-SC-mc-SC-mc-SC-mc-SC-mc-SC-mc-SC-mc-SC-mc-SC-mc-SC-mc-SC-mc-SC-mc-SC-mc-SC-mc-SC-mc-SC-mc-SC-mc-SC-mc-SC-mc-SC-mc-SC-mc-SC-mc-SC-mc-SC-mc-SC-mc-SC-mc-SC-mc-SC-mc-SC-mc-SC-mc-SC-mc-SC-mc-SC-mc-SC-mc-SC-mc-SC-mc-SC-mc-SC-mc-SC-mc-SC-mc-SC-mc-SC-mc-SC-mc-SC-mc-SC-mc-SC-mc-SC-mc-SC-mc-SC-mc-SC-mc-SC-mc-SC-mc-SC-mc-SC-mc-SC-mc-SC-mc-SC-mc-SC-mc-SC-mc-SC-mc-SC-mc-SC-mc-SC-mc-SC-mc-SC-mc-SC-mc-SC-mc-SC-mc-SC-mc-SC-mc-SC-mc-SC-mc-SC-mc-SC-mc-SC-mc-SC-mc-SC-mc-SC-mc-SC-mc-SC-mc-SC-mc-SC-mc-SC-mc-SC-mc-SC-mc-SC-mc-SC-mc-SC-mc-SC-mc-SC-mc-SC-mc-SC-mc-SC-mc-SC-mc-SC-mc-SC-mc-SC-mc-SC-mc-SC-mc-SC-mc-SC-mc-SC-mc-SC-mc-SC-mc-SC-mc-SC-mc-SC-mc-SC-mc-CS-sc-CS-sc-CS-sc-CS-sc-CS-sc-CS-sc-CS-sc-CS-sc-CS-sc-CS-sc-CS-sc-CS-sc-CS-sc-CS-sc-CS-sc-CS-sc-CS-sc-CS-sc-CS-sc-CS-sc-CS-sc-CS-sc-CS-sc-CS-sc-CS-sc-CS-sc-CS-sc-CS-sc-CS-sc-CS-sc-CS-sc-CS-sc-CS-sc-CS-sc-CS-sc-CS-sc-CS-sc-CS-sc-CS-sc-CS-sc-CS-sc-CS-sc-CS-sc-CS-sc-CS-sc-CS-sc-CS-sc-CS-sc-CS-sc-CS-sc-CS-sc-CS-sc-CS-sc-CS-sc-CS-sc-CS-sc-CS-sc-CS-sc-CS-sc-CS-sc-CS-sc-CS-sc-CS-sc-CS-sc-CS-sc-CS-sc-CS-sc-CS-sc-CS-sc-CS-sc-CS-sc-CS-sc-CS-sc-CS-sc-CS-sc-CS-sc-CS-sc-CS-sc-CS-sc-CS-sc-CS-sc-CS-sc-CS-sc-CS-sc-CS-sc-CS-sc-CS-sc-CS-sc-CS-sc-CS-sc-CS-sc-CS-sc-CS-sc-CS-sc-CS-sc-CS-sc-CS-sc-CS-sc-CS-sc-CS-sc-CS-sc-CS-sc-CS-sc-CS-sc-CS-sc-CS-sc-CS-sc-CS-sc-CS-sc-CS-sc-CS-sc-CS-sc-CS-sc-CS-sc-CS-sc-CS-sc-CS-sc-CS-sc-CS-sc-CS-sc-CS-sc-CS-sc-CS-sc-CS-sc-CS-sc-CS-sc-CS-sc-CS-sc-CS-sc-CS-sc-CS-sc-CS-sc-CS-sc-CS-sc-CS-sc-SC-sc-SC-sc-SC-sc-SC-sc-SC-sc-SC-sc-SC-sc-SC-sc-SC-sc-SC-sc-SC-sc-SC-sc-SC-sc-SC-sc-SC-sc-SC-sc-SC-sc-SC-sc-SC-sc-SC-sc-SC-sc-SC-sc-SC-sc-SC-sc-SC-sc-SC-sc-SC-sc-SC-sc-SC-sc-SC-sc-SC-sc-SC-sc-SC-sc-SC-sc-SC-sc-SC-sc-SC-sc-SC-sc-SC-sc-SC-sc-SC-sc-SC-sc-SC-sc-SC-sc-SC-sc-SC-sc-SC-sc-SC-sc-SC-sc-SC-sc-SC-sc-SC-sc-SC-sc-SC-sc-SC-sc-SC-sc-SC-sc-SC-sc-SC-sc-SC-sc-SC-sc-SC-sc-SC-sc-SC-sc-SC-sc-SC-sc-SC-sc-SC-sc-SC-sc-SC-sc-SC-sc-SC-sc-SC-sc-SC-sc-SC-sc-SC-sc-SC-sc-SC-sc-SC-sc-SC-sc-SC-sc-SC-sc-SC-sc-SC-sc-SC-sc-SC-sc-SC-sc-SC-sc-SC-sc-SC-sc-SC-sc-SC-sc-SC-sc-SC-sc-SC-sc-SC-sc-SC-sc-SC-sc-SC-sc-SC-sc-SC-sc-SC-sc-SC-sc-SC-sc-SC-sc-SC-sc-SC-sc-SC-sc-SC-sc-SC-sc-SC-sc-SC-sc-SC-sc-SC-sc-SC-sc-SC-sc-SC-sc-SC-sc-SC-sc-SC-sc-SC-sc-SC-sc-SC-sc-SC-sc-SC-sc-SC-sc-SC-sc-SC-sc-SC-sc-SC-sc-SC-sc-SC-sc-SC-sc-SC-sc-SC-st-CS-mt-CS-mt-CS-mt-CS-mt-CS-mt-CS-mt-CS-mt-CS-mt-CS-mt-CS-mt-CS-mt-CS-mt-CS-mt-CS-mt-CS-mt-CS-mt-CS-mt-CS-mt-CS-mt-CS-mt-CS-mt-CS-mt-CS-mt-CS-mt-CS-mt-CS-mt-CS-mt-CS-mt-CS-mt-CS-mt-CS-mt-CS-mt-CS-mt-CS-mt-CS-mt-CS-mt-CS-mt-CS-mt-CS-mt-CS-mt-CS-mt-CS-mt-CS-mt-CS-mt-CS-mt-CS-mt-CS-mt-CS-mt-CS-mt-CS-mt-CS-mt-CS-mt-CS-mt-CS-mt-CS-mt-CS-mt-CS-mt-CS-mt-CS-mt-CS-mt-CS-mt-CS-mt-CS-mt-CS-mt-CS-mt-CS-mt-CS-mt-CS-mt-CS-mt-CS-mt-CS-mt-CS-mt-CS-mt-CS-mt-CS-mt-CS-mt-CS-mt-CS-mt-CS-mt-CS-mt-CS-mt-CS-mt-CS-mt-CS-mt-CS-mt-CS-mt-CS-mt-CS-mt-CS-mt-CS-mt-CS-mt-CS-mt-CS-mt-CS-mt-CS-mt-CS-mt-CS-mt-CS-mt-CS-mt-CS-mt-CS-mt-CS-mt-CS-mt-CS-mt-CS-mt-CS-mt-CS-mt-CS-mt-CS-mt-CS-mt-CS-mt-CS-mt-CS-mt-CS-mt-CS-mt-CS-mt-CS-mt-CS-mt-CS-mt-CS-mt-CS-mt-CS-mt-CS-mt-CS-mt-CS-mt-CS-mt-CS-mt-CS-mt-CS-mt-CS-mt-CS-mt-CS-mt-CS-mt-CS-mt-CS-mt-SC-mt-SC-mt-SC-mt-SC-mt-SC-mt-SC-mt-SC-mt-SC-mt-SC-mt-SC-mt-SC-mt-SC-mt-SC-mt-SC-mt-SC-mt-SC-mt-SC-mt-SC-mt-SC-mt-SC-mt-SC-mt-SC-mt-SC-mt-SC-mt-SC-mt-SC-mt-SC-mt-SC-mt-SC-mt-SC-mt-SC-mt-SC-mt-SC-mt-SC-mt-SC-mt-SC-mt-SC-mt-SC-mt-SC-mt-SC-mt-SC-mt-SC-mt-SC-mt-SC-mt-SC-mt-SC-mt-SC-mt-SC-mt-SC-mt-SC-mt-SC-mt-SC-mt-SC-mt-SC-mt-SC-mt-SC-mt-SC-mt-SC-mt-SC-mt-SC-mt-SC-mt-SC-mt-SC-mt-SC-mt-SC-mt-SC-mt-SC-mt-SC-mt-SC-mt-SC-mt-SC-mt-SC-mt-SC-mt-SC-mt-SC-mt-SC-mt-SC-mt-SC-mt-SC-mt-SC-mt-SC-mt-SC-mt-SC-mt-SC-mt-SC-mt-SC-mt-SC-mt-SC-mt-SC-mt-SC-mt-SC-mt-SC-mt-SC-mt-SC-mt-SC-mt-SC-mt-SC-mt-SC-mt-SC-mt-SC-mt-SC-mt-SC-mt-SC-mt-SC-mt-SC-mt-SC-mt-SC-mt-SC-mt-SC-mt-SC-mt-SC-mt-SC-mt-SC-mt-SC-mt-SC-mt-SC-mt-SC-mt-SC-mt-SC-mt-SC-mt-SC-mt-SC-mt-SC-mt-SC-mt-SC-mt-SC-mt-SC-mt-SC-mt-SC-mt-SC-mt-SC-mt-SC-mt-SC-mt-SC-mt-SC-mt-CS-st-CS-st-CS-st-CS-st-CS-st-CS-st-CS-st-CS-st-CS-st-CS-st-CS-st-CS-st-CS-st-CS-st-CS-st-CS-st-CS-st-CS-st-CS-st-CS-st-CS-st-CS-st-CS-st-CS-st-CS-st-CS-st-CS-st-CS-st-CS-st-CS-st-CS-st-CS-st-CS-st-CS-st-CS-st-CS-st-CS-st-CS-st-CS-st-CS-st-CS-st-CS-st-CS-st-CS-st-CS-st-CS-st-CS-st-CS-st-CS-st-CS-st-CS-st-CS-st-CS-st-CS-st-CS-st-CS-st-CS-st-CS-st-CS-st-CS-st-CS-st-CS-st-CS-st-CS-st-CS-st-CS-st-CS-st-CS-st-CS-st-CS-st-CS-st-CS-st-CS-st-CS-st-CS-st-CS-st-CS-st-CS-st-CS-st-CS-st-CS-st-CS-st-CS-st-CS-st-CS-st-CS-st-CS-st-CS-st-CS-st-CS-st-CS-st-CS-st-CS-st-CS-st-CS-st-CS-st-CS-st-CS-st-CS-st-CS-st-CS-st-CS-st-CS-st-CS-st-CS-st-SC-st-SC-st-SC-st-SC-st-SC-st-SC-st-SC-st-SC-st-SC-st-SC-st-SC-st-SC-st-SC-st-SC-st-SC-st-SC-st-SC-st-SC-st-SC-st-SC-st-SC-st-SC-st-SC-st-SC-st-SC-st-SC-st-SC-st-SC-st-SC-st-SC-st-SC-st-SC-st-SC-st-SC-st-SC-st-SC-st-SC-st-SC-st-SC-st-SC-st-SC-st-SC-st-SC-st-SC-st-SC-st-SC-st-SC-st-SC-st-SC-st-SC-st-SC-st-SC-st-SC-st-SC-st-SC-st-SC-st-SC-st-SC-st-SC-st-SC-st-SC-st-SC-st-SC-st-SC-st-SC-st-SC-st-SC-st-SC-st-SC-st-SC-st-SC-st-SC-st-SC-st-SC-st-SC-st-SC-st-SC-st-SC-st-SC-st-SC-st-SC-st-SC-st-SC-st-SC-st-SC-st-SC-st-SC-st-SC-st-SC-st-SC-st-SC-st-SC-st-SC-st-SC-st-SC-st-SC-st-SC-st-SC-st-SC-st-SC-st-SC-st-SC-st-SC-st-SC-st-SC-st-SC-st-SC-st-SC-st-SC-st-SC-st-SC-st-SC-st-SC-st-SC-st-SC-st-SC-st-SC-st-SC-st-SC-st-SC-st-SC-st-SC-st-SC-st-SC-st-SC-st-SC-st-SC-st-SC-st-SC-st-SC-st-SC-st-SC-st-SC-st-SC-st-SC-s'] to numeric",
     "output_type": "error",
     "traceback": [
      "\u001b[0;31m---------------------------------------------------------------------------\u001b[0m",
      "\u001b[0;31mValueError\u001b[0m                                Traceback (most recent call last)",
      "File \u001b[0;32m~/Documents/Studium/Master/SS_23/VDA/venv/lib/python3.10/site-packages/pandas/core/nanops.py:1680\u001b[0m, in \u001b[0;36m_ensure_numeric\u001b[0;34m(x)\u001b[0m\n\u001b[1;32m   1679\u001b[0m \u001b[38;5;28;01mtry\u001b[39;00m:\n\u001b[0;32m-> 1680\u001b[0m     x \u001b[38;5;241m=\u001b[39m \u001b[43mx\u001b[49m\u001b[38;5;241;43m.\u001b[39;49m\u001b[43mastype\u001b[49m\u001b[43m(\u001b[49m\u001b[43mnp\u001b[49m\u001b[38;5;241;43m.\u001b[39;49m\u001b[43mcomplex128\u001b[49m\u001b[43m)\u001b[49m\n\u001b[1;32m   1681\u001b[0m \u001b[38;5;28;01mexcept\u001b[39;00m (\u001b[38;5;167;01mTypeError\u001b[39;00m, \u001b[38;5;167;01mValueError\u001b[39;00m):\n",
      "\u001b[0;31mValueError\u001b[0m: complex() arg is a malformed string",
      "\nDuring handling of the above exception, another exception occurred:\n",
      "\u001b[0;31mValueError\u001b[0m                                Traceback (most recent call last)",
      "File \u001b[0;32m~/Documents/Studium/Master/SS_23/VDA/venv/lib/python3.10/site-packages/pandas/core/nanops.py:1683\u001b[0m, in \u001b[0;36m_ensure_numeric\u001b[0;34m(x)\u001b[0m\n\u001b[1;32m   1682\u001b[0m \u001b[38;5;28;01mtry\u001b[39;00m:\n\u001b[0;32m-> 1683\u001b[0m     x \u001b[38;5;241m=\u001b[39m \u001b[43mx\u001b[49m\u001b[38;5;241;43m.\u001b[39;49m\u001b[43mastype\u001b[49m\u001b[43m(\u001b[49m\u001b[43mnp\u001b[49m\u001b[38;5;241;43m.\u001b[39;49m\u001b[43mfloat64\u001b[49m\u001b[43m)\u001b[49m\n\u001b[1;32m   1684\u001b[0m \u001b[38;5;28;01mexcept\u001b[39;00m \u001b[38;5;167;01mValueError\u001b[39;00m \u001b[38;5;28;01mas\u001b[39;00m err:\n\u001b[1;32m   1685\u001b[0m     \u001b[38;5;66;03m# GH#29941 we get here with object arrays containing strs\u001b[39;00m\n",
      "\u001b[0;31mValueError\u001b[0m: could not convert string to float: 'ControlControlControlControlControlControlControlControlControlControlControlControlControlControlControlControlControlControlControlControlControlControlControlControlControlControlControlControlControlControlControlControlControlControlControlControlControlControlControlControlControlControlControlControlControlControlControlControlControlControlControlControlControlControlControlControlControlControlControlControlControlControlControlControlControlControlControlControlControlControlControlControlControlControlControlControlControlControlControlControlControlControlControlControlControlControlControlControlControlControlControlControlControlControlControlControlControlControlControlControlControlControlControlControlControlControlControlControlControlControlControlControlControlControlControlControlControlControlControlControlControlControlControlControlControlControlControlControlControlControlControlControlControlControlControlControlControlControlControlControlControlControlControlControlControlControlControlControlControlControlControlControlControlControlControlControlControlControlControlControlControlControlControlControlControlControlControlControlControlControlControlControlControlControlControlControlControlControlControlControlControlControlControlControlControlControlControlControlControlControlControlControlControlControlControlControlControlControlControlControlControlControlControlControlControlControlControlControlControlControlControlControlControlControlControlControlControlControlControlControlControlControlControlControlControlControlControlControlControlControlControlControlControlControlControlControlControlControlControlControlControlControlControlControlControlControlControlControlControlControlControlControlControlControlControlControlControlControlControlControlControlControlControlControlControlControlControlControlControlControlControlControlControlControlControlControlControlControlControlControlControlControlControlControlControlControlControlControlControlControlControlControlControlControlControlControlControlControlControlControlControlControlControlControlControlControlControlControlControlControlControlControlControlControlControlControlControlControlControlControlControlControlControlControlControlControlControlControlControlControlControlControlControlControlControlControlControlControlControlControlControlControlControlControlControlControlControlControlControlControlControlControlControlControlControlControlControlControlControlControlControlControlControlControlControlControlControlControlControlControlControlControlControlControlControlControlControlControlControlControlControlControlControlControlControlControlControlControlControlControlControlControlControlControlControlControlControlControlControlControlControlControlControlControlControlControlControlControlControlControlControlControlControlControlControlControlControlControlControlControlControlControlControlControlControlControlControlControlControlControlControlControlControlControlControlControlControlControlControlControlControlControlControlControlControlControlControlControlControlControlControlControlControlControlControlControlControlControlControlControlControlControlControlControlControlControlControlControlControlControlControlControlControlControlControlControlControlControlControlControlControlControlControlControlControlControlControlControlControlControlControlControlControlControlControlControlControlControlControlControlControlControlControlControlControlControlControlControlControlControlControlControlControlControlControlControlControlControlControlControlControlControlControlControlControlControlControlControlControlControlControlControlControlControlControlControlControlControlControlControlControlControlControlControlControlControlControlControlControlControlControlControlControlControlControlControlControlControlControlControlControlControlControlControlControlControlControlControlControlControlTs65DnTs65DnTs65DnTs65DnTs65DnTs65DnTs65DnTs65DnTs65DnTs65DnTs65DnTs65DnTs65DnTs65DnTs65DnTs65DnTs65DnTs65DnTs65DnTs65DnTs65DnTs65DnTs65DnTs65DnTs65DnTs65DnTs65DnTs65DnTs65DnTs65DnTs65DnTs65DnTs65DnTs65DnTs65DnTs65DnTs65DnTs65DnTs65DnTs65DnTs65DnTs65DnTs65DnTs65DnTs65DnTs65DnTs65DnTs65DnTs65DnTs65DnTs65DnTs65DnTs65DnTs65DnTs65DnTs65DnTs65DnTs65DnTs65DnTs65DnTs65DnTs65DnTs65DnTs65DnTs65DnTs65DnTs65DnTs65DnTs65DnTs65DnTs65DnTs65DnTs65DnTs65DnTs65DnTs65DnTs65DnTs65DnTs65DnTs65DnTs65DnTs65DnTs65DnTs65DnTs65DnTs65DnTs65DnTs65DnTs65DnTs65DnTs65DnTs65DnTs65DnTs65DnTs65DnTs65DnTs65DnTs65DnTs65DnTs65DnTs65DnTs65DnTs65DnTs65DnTs65DnTs65DnTs65DnTs65DnTs65DnTs65DnTs65DnTs65DnTs65DnTs65DnTs65DnTs65DnTs65DnTs65DnTs65DnTs65DnTs65DnTs65DnTs65DnTs65DnTs65DnTs65DnTs65DnTs65DnTs65DnTs65DnTs65DnTs65DnTs65DnTs65DnTs65DnTs65DnTs65DnTs65DnTs65DnTs65DnTs65DnTs65DnTs65DnTs65DnTs65DnTs65DnTs65DnTs65DnTs65DnTs65DnTs65DnTs65DnTs65DnTs65DnTs65DnTs65DnTs65DnTs65DnTs65DnTs65DnTs65DnTs65DnTs65DnTs65DnTs65DnTs65DnTs65DnTs65DnTs65DnTs65DnTs65DnTs65DnTs65DnTs65DnTs65DnTs65DnTs65DnTs65DnTs65DnTs65DnTs65DnTs65DnTs65DnTs65DnTs65DnTs65DnTs65DnTs65DnTs65DnTs65DnTs65DnTs65DnTs65DnTs65DnTs65DnTs65DnTs65DnTs65DnTs65DnTs65DnTs65DnTs65DnTs65DnTs65DnTs65DnTs65DnTs65DnTs65DnTs65DnTs65DnTs65DnTs65DnTs65DnTs65DnTs65DnTs65DnTs65DnTs65DnTs65DnTs65DnTs65DnTs65DnTs65DnTs65DnTs65DnTs65DnTs65DnTs65DnTs65DnTs65DnTs65DnTs65DnTs65DnTs65DnTs65DnTs65DnTs65DnTs65DnTs65DnTs65DnTs65DnTs65DnTs65DnTs65DnTs65DnTs65DnTs65DnTs65DnTs65DnTs65DnTs65DnTs65DnTs65DnTs65DnTs65DnTs65DnTs65DnTs65DnTs65DnTs65DnTs65DnTs65DnTs65DnTs65DnTs65DnTs65DnTs65DnTs65DnTs65DnTs65DnTs65DnTs65DnTs65DnTs65DnTs65DnTs65DnTs65DnTs65DnTs65DnTs65DnTs65DnTs65DnTs65DnTs65DnTs65DnTs65DnTs65DnTs65DnTs65DnTs65DnTs65DnTs65DnTs65DnTs65DnTs65DnTs65DnTs65DnTs65DnTs65DnTs65DnTs65DnTs65DnTs65DnTs65DnTs65DnTs65DnTs65DnTs65DnTs65DnTs65DnTs65DnTs65DnTs65DnTs65DnTs65DnTs65DnTs65DnTs65DnTs65DnTs65DnTs65DnTs65DnTs65DnTs65DnTs65DnTs65DnTs65DnTs65DnTs65DnTs65DnTs65DnTs65DnTs65DnTs65DnTs65DnTs65DnTs65DnTs65DnTs65DnTs65DnTs65DnTs65DnTs65DnTs65DnTs65DnTs65DnTs65DnTs65DnTs65DnTs65DnTs65DnTs65DnTs65DnTs65DnTs65DnTs65DnTs65DnTs65DnTs65DnTs65DnTs65DnTs65DnTs65DnTs65DnTs65DnTs65DnTs65DnTs65DnTs65DnTs65DnTs65DnTs65DnTs65DnTs65DnTs65DnTs65DnTs65DnTs65DnTs65DnTs65DnTs65DnTs65DnTs65DnTs65DnTs65DnTs65DnTs65DnTs65DnTs65DnTs65DnTs65DnTs65DnTs65DnTs65DnTs65DnTs65DnTs65DnTs65DnTs65DnTs65DnTs65DnTs65DnTs65DnTs65DnTs65DnTs65DnTs65DnTs65DnTs65DnTs65DnTs65DnTs65DnTs65DnTs65DnTs65DnTs65DnTs65DnTs65DnTs65DnTs65DnTs65DnTs65DnTs65DnTs65DnTs65DnTs65DnTs65DnTs65DnTs65DnTs65DnTs65DnTs65DnTs65DnTs65DnTs65DnTs65DnTs65DnTs65DnTs65DnTs65DnTs65DnTs65DnTs65DnTs65DnTs65DnTs65DnTs65DnTs65DnTs65DnTs65DnTs65DnTs65DnTs65DnTs65DnTs65DnTs65DnTs65DnTs65DnTs65DnTs65DnTs65DnTs65DnTs65DnTs65DnTs65DnTs65DnTs65DnTs65DnTs65DnTs65DnTs65DnTs65DnTs65DnTs65DnTs65DnTs65DnTs65DnTs65DnTs65DnTs65DnTs65DnTs65DnTs65DnTs65DnTs65DnTs65DnTs65DnTs65DnTs65DnTs65DnTs65DnTs65DnTs65DnTs65DnTs65DnTs65DnTs65DnTs65DnTs65DnTs65DnTs65DnTs65DnTs65DnTs65DnTs65DnTs65DnTs65DnTs65DnTs65DnTs65Dn'",
      "\nThe above exception was the direct cause of the following exception:\n",
      "\u001b[0;31mTypeError\u001b[0m                                 Traceback (most recent call last)",
      "Cell \u001b[0;32mIn[4], line 5\u001b[0m\n\u001b[1;32m      1\u001b[0m df \u001b[38;5;241m=\u001b[39m pd\u001b[38;5;241m.\u001b[39mread_excel(\n\u001b[1;32m      2\u001b[0m     \u001b[38;5;124m\"\u001b[39m\u001b[38;5;124mdata/Data_Cortex_Nuclear.xls\u001b[39m\u001b[38;5;124m\"\u001b[39m,\n\u001b[1;32m      3\u001b[0m     index_col\u001b[38;5;241m=\u001b[39m\u001b[38;5;124m\"\u001b[39m\u001b[38;5;124mMouseID\u001b[39m\u001b[38;5;124m\"\u001b[39m,\n\u001b[1;32m      4\u001b[0m )\n\u001b[0;32m----> 5\u001b[0m df \u001b[38;5;241m=\u001b[39m df\u001b[38;5;241m.\u001b[39mfillna(\u001b[43mdf\u001b[49m\u001b[38;5;241;43m.\u001b[39;49m\u001b[43mmean\u001b[49m\u001b[43m(\u001b[49m\u001b[43m)\u001b[49m)\n",
      "File \u001b[0;32m~/Documents/Studium/Master/SS_23/VDA/venv/lib/python3.10/site-packages/pandas/core/generic.py:11563\u001b[0m, in \u001b[0;36mNDFrame._add_numeric_operations.<locals>.mean\u001b[0;34m(self, axis, skipna, numeric_only, **kwargs)\u001b[0m\n\u001b[1;32m  11546\u001b[0m \u001b[38;5;129m@doc\u001b[39m(\n\u001b[1;32m  11547\u001b[0m     _num_doc,\n\u001b[1;32m  11548\u001b[0m     desc\u001b[38;5;241m=\u001b[39m\u001b[38;5;124m\"\u001b[39m\u001b[38;5;124mReturn the mean of the values over the requested axis.\u001b[39m\u001b[38;5;124m\"\u001b[39m,\n\u001b[0;32m   (...)\u001b[0m\n\u001b[1;32m  11561\u001b[0m     \u001b[38;5;241m*\u001b[39m\u001b[38;5;241m*\u001b[39mkwargs,\n\u001b[1;32m  11562\u001b[0m ):\n\u001b[0;32m> 11563\u001b[0m     \u001b[38;5;28;01mreturn\u001b[39;00m \u001b[43mNDFrame\u001b[49m\u001b[38;5;241;43m.\u001b[39;49m\u001b[43mmean\u001b[49m\u001b[43m(\u001b[49m\u001b[38;5;28;43mself\u001b[39;49m\u001b[43m,\u001b[49m\u001b[43m \u001b[49m\u001b[43maxis\u001b[49m\u001b[43m,\u001b[49m\u001b[43m \u001b[49m\u001b[43mskipna\u001b[49m\u001b[43m,\u001b[49m\u001b[43m \u001b[49m\u001b[43mnumeric_only\u001b[49m\u001b[43m,\u001b[49m\u001b[43m \u001b[49m\u001b[38;5;241;43m*\u001b[39;49m\u001b[38;5;241;43m*\u001b[39;49m\u001b[43mkwargs\u001b[49m\u001b[43m)\u001b[49m\n",
      "File \u001b[0;32m~/Documents/Studium/Master/SS_23/VDA/venv/lib/python3.10/site-packages/pandas/core/generic.py:11208\u001b[0m, in \u001b[0;36mNDFrame.mean\u001b[0;34m(self, axis, skipna, numeric_only, **kwargs)\u001b[0m\n\u001b[1;32m  11201\u001b[0m \u001b[38;5;28;01mdef\u001b[39;00m \u001b[38;5;21mmean\u001b[39m(\n\u001b[1;32m  11202\u001b[0m     \u001b[38;5;28mself\u001b[39m,\n\u001b[1;32m  11203\u001b[0m     axis: Axis \u001b[38;5;241m|\u001b[39m \u001b[38;5;28;01mNone\u001b[39;00m \u001b[38;5;241m=\u001b[39m \u001b[38;5;241m0\u001b[39m,\n\u001b[0;32m   (...)\u001b[0m\n\u001b[1;32m  11206\u001b[0m     \u001b[38;5;241m*\u001b[39m\u001b[38;5;241m*\u001b[39mkwargs,\n\u001b[1;32m  11207\u001b[0m ) \u001b[38;5;241m-\u001b[39m\u001b[38;5;241m>\u001b[39m Series \u001b[38;5;241m|\u001b[39m \u001b[38;5;28mfloat\u001b[39m:\n\u001b[0;32m> 11208\u001b[0m     \u001b[38;5;28;01mreturn\u001b[39;00m \u001b[38;5;28;43mself\u001b[39;49m\u001b[38;5;241;43m.\u001b[39;49m\u001b[43m_stat_function\u001b[49m\u001b[43m(\u001b[49m\n\u001b[1;32m  11209\u001b[0m \u001b[43m        \u001b[49m\u001b[38;5;124;43m\"\u001b[39;49m\u001b[38;5;124;43mmean\u001b[39;49m\u001b[38;5;124;43m\"\u001b[39;49m\u001b[43m,\u001b[49m\u001b[43m \u001b[49m\u001b[43mnanops\u001b[49m\u001b[38;5;241;43m.\u001b[39;49m\u001b[43mnanmean\u001b[49m\u001b[43m,\u001b[49m\u001b[43m \u001b[49m\u001b[43maxis\u001b[49m\u001b[43m,\u001b[49m\u001b[43m \u001b[49m\u001b[43mskipna\u001b[49m\u001b[43m,\u001b[49m\u001b[43m \u001b[49m\u001b[43mnumeric_only\u001b[49m\u001b[43m,\u001b[49m\u001b[43m \u001b[49m\u001b[38;5;241;43m*\u001b[39;49m\u001b[38;5;241;43m*\u001b[39;49m\u001b[43mkwargs\u001b[49m\n\u001b[1;32m  11210\u001b[0m \u001b[43m    \u001b[49m\u001b[43m)\u001b[49m\n",
      "File \u001b[0;32m~/Documents/Studium/Master/SS_23/VDA/venv/lib/python3.10/site-packages/pandas/core/generic.py:11165\u001b[0m, in \u001b[0;36mNDFrame._stat_function\u001b[0;34m(self, name, func, axis, skipna, numeric_only, **kwargs)\u001b[0m\n\u001b[1;32m  11161\u001b[0m     nv\u001b[38;5;241m.\u001b[39mvalidate_stat_func((), kwargs, fname\u001b[38;5;241m=\u001b[39mname)\n\u001b[1;32m  11163\u001b[0m validate_bool_kwarg(skipna, \u001b[38;5;124m\"\u001b[39m\u001b[38;5;124mskipna\u001b[39m\u001b[38;5;124m\"\u001b[39m, none_allowed\u001b[38;5;241m=\u001b[39m\u001b[38;5;28;01mFalse\u001b[39;00m)\n\u001b[0;32m> 11165\u001b[0m \u001b[38;5;28;01mreturn\u001b[39;00m \u001b[38;5;28;43mself\u001b[39;49m\u001b[38;5;241;43m.\u001b[39;49m\u001b[43m_reduce\u001b[49m\u001b[43m(\u001b[49m\n\u001b[1;32m  11166\u001b[0m \u001b[43m    \u001b[49m\u001b[43mfunc\u001b[49m\u001b[43m,\u001b[49m\u001b[43m \u001b[49m\u001b[43mname\u001b[49m\u001b[38;5;241;43m=\u001b[39;49m\u001b[43mname\u001b[49m\u001b[43m,\u001b[49m\u001b[43m \u001b[49m\u001b[43maxis\u001b[49m\u001b[38;5;241;43m=\u001b[39;49m\u001b[43maxis\u001b[49m\u001b[43m,\u001b[49m\u001b[43m \u001b[49m\u001b[43mskipna\u001b[49m\u001b[38;5;241;43m=\u001b[39;49m\u001b[43mskipna\u001b[49m\u001b[43m,\u001b[49m\u001b[43m \u001b[49m\u001b[43mnumeric_only\u001b[49m\u001b[38;5;241;43m=\u001b[39;49m\u001b[43mnumeric_only\u001b[49m\n\u001b[1;32m  11167\u001b[0m \u001b[43m\u001b[49m\u001b[43m)\u001b[49m\n",
      "File \u001b[0;32m~/Documents/Studium/Master/SS_23/VDA/venv/lib/python3.10/site-packages/pandas/core/frame.py:10519\u001b[0m, in \u001b[0;36mDataFrame._reduce\u001b[0;34m(self, op, name, axis, skipna, numeric_only, filter_type, **kwds)\u001b[0m\n\u001b[1;32m  10515\u001b[0m     df \u001b[38;5;241m=\u001b[39m df\u001b[38;5;241m.\u001b[39mT\n\u001b[1;32m  10517\u001b[0m \u001b[38;5;66;03m# After possibly _get_data and transposing, we are now in the\u001b[39;00m\n\u001b[1;32m  10518\u001b[0m \u001b[38;5;66;03m#  simple case where we can use BlockManager.reduce\u001b[39;00m\n\u001b[0;32m> 10519\u001b[0m res \u001b[38;5;241m=\u001b[39m \u001b[43mdf\u001b[49m\u001b[38;5;241;43m.\u001b[39;49m\u001b[43m_mgr\u001b[49m\u001b[38;5;241;43m.\u001b[39;49m\u001b[43mreduce\u001b[49m\u001b[43m(\u001b[49m\u001b[43mblk_func\u001b[49m\u001b[43m)\u001b[49m\n\u001b[1;32m  10520\u001b[0m out \u001b[38;5;241m=\u001b[39m df\u001b[38;5;241m.\u001b[39m_constructor(res)\u001b[38;5;241m.\u001b[39miloc[\u001b[38;5;241m0\u001b[39m]\n\u001b[1;32m  10521\u001b[0m \u001b[38;5;28;01mif\u001b[39;00m out_dtype \u001b[38;5;129;01mis\u001b[39;00m \u001b[38;5;129;01mnot\u001b[39;00m \u001b[38;5;28;01mNone\u001b[39;00m:\n",
      "File \u001b[0;32m~/Documents/Studium/Master/SS_23/VDA/venv/lib/python3.10/site-packages/pandas/core/internals/managers.py:1534\u001b[0m, in \u001b[0;36mBlockManager.reduce\u001b[0;34m(self, func)\u001b[0m\n\u001b[1;32m   1532\u001b[0m res_blocks: \u001b[38;5;28mlist\u001b[39m[Block] \u001b[38;5;241m=\u001b[39m []\n\u001b[1;32m   1533\u001b[0m \u001b[38;5;28;01mfor\u001b[39;00m blk \u001b[38;5;129;01min\u001b[39;00m \u001b[38;5;28mself\u001b[39m\u001b[38;5;241m.\u001b[39mblocks:\n\u001b[0;32m-> 1534\u001b[0m     nbs \u001b[38;5;241m=\u001b[39m \u001b[43mblk\u001b[49m\u001b[38;5;241;43m.\u001b[39;49m\u001b[43mreduce\u001b[49m\u001b[43m(\u001b[49m\u001b[43mfunc\u001b[49m\u001b[43m)\u001b[49m\n\u001b[1;32m   1535\u001b[0m     res_blocks\u001b[38;5;241m.\u001b[39mextend(nbs)\n\u001b[1;32m   1537\u001b[0m index \u001b[38;5;241m=\u001b[39m Index([\u001b[38;5;28;01mNone\u001b[39;00m])  \u001b[38;5;66;03m# placeholder\u001b[39;00m\n",
      "File \u001b[0;32m~/Documents/Studium/Master/SS_23/VDA/venv/lib/python3.10/site-packages/pandas/core/internals/blocks.py:339\u001b[0m, in \u001b[0;36mBlock.reduce\u001b[0;34m(self, func)\u001b[0m\n\u001b[1;32m    333\u001b[0m \u001b[38;5;129m@final\u001b[39m\n\u001b[1;32m    334\u001b[0m \u001b[38;5;28;01mdef\u001b[39;00m \u001b[38;5;21mreduce\u001b[39m(\u001b[38;5;28mself\u001b[39m, func) \u001b[38;5;241m-\u001b[39m\u001b[38;5;241m>\u001b[39m \u001b[38;5;28mlist\u001b[39m[Block]:\n\u001b[1;32m    335\u001b[0m     \u001b[38;5;66;03m# We will apply the function and reshape the result into a single-row\u001b[39;00m\n\u001b[1;32m    336\u001b[0m     \u001b[38;5;66;03m#  Block with the same mgr_locs; squeezing will be done at a higher level\u001b[39;00m\n\u001b[1;32m    337\u001b[0m     \u001b[38;5;28;01massert\u001b[39;00m \u001b[38;5;28mself\u001b[39m\u001b[38;5;241m.\u001b[39mndim \u001b[38;5;241m==\u001b[39m \u001b[38;5;241m2\u001b[39m\n\u001b[0;32m--> 339\u001b[0m     result \u001b[38;5;241m=\u001b[39m \u001b[43mfunc\u001b[49m\u001b[43m(\u001b[49m\u001b[38;5;28;43mself\u001b[39;49m\u001b[38;5;241;43m.\u001b[39;49m\u001b[43mvalues\u001b[49m\u001b[43m)\u001b[49m\n\u001b[1;32m    341\u001b[0m     \u001b[38;5;28;01mif\u001b[39;00m \u001b[38;5;28mself\u001b[39m\u001b[38;5;241m.\u001b[39mvalues\u001b[38;5;241m.\u001b[39mndim \u001b[38;5;241m==\u001b[39m \u001b[38;5;241m1\u001b[39m:\n\u001b[1;32m    342\u001b[0m         \u001b[38;5;66;03m# TODO(EA2D): special case not needed with 2D EAs\u001b[39;00m\n\u001b[1;32m    343\u001b[0m         res_values \u001b[38;5;241m=\u001b[39m np\u001b[38;5;241m.\u001b[39marray([[result]])\n",
      "File \u001b[0;32m~/Documents/Studium/Master/SS_23/VDA/venv/lib/python3.10/site-packages/pandas/core/frame.py:10482\u001b[0m, in \u001b[0;36mDataFrame._reduce.<locals>.blk_func\u001b[0;34m(values, axis)\u001b[0m\n\u001b[1;32m  10480\u001b[0m     \u001b[38;5;28;01mreturn\u001b[39;00m values\u001b[38;5;241m.\u001b[39m_reduce(name, skipna\u001b[38;5;241m=\u001b[39mskipna, \u001b[38;5;241m*\u001b[39m\u001b[38;5;241m*\u001b[39mkwds)\n\u001b[1;32m  10481\u001b[0m \u001b[38;5;28;01melse\u001b[39;00m:\n\u001b[0;32m> 10482\u001b[0m     \u001b[38;5;28;01mreturn\u001b[39;00m \u001b[43mop\u001b[49m\u001b[43m(\u001b[49m\u001b[43mvalues\u001b[49m\u001b[43m,\u001b[49m\u001b[43m \u001b[49m\u001b[43maxis\u001b[49m\u001b[38;5;241;43m=\u001b[39;49m\u001b[43maxis\u001b[49m\u001b[43m,\u001b[49m\u001b[43m \u001b[49m\u001b[43mskipna\u001b[49m\u001b[38;5;241;43m=\u001b[39;49m\u001b[43mskipna\u001b[49m\u001b[43m,\u001b[49m\u001b[43m \u001b[49m\u001b[38;5;241;43m*\u001b[39;49m\u001b[38;5;241;43m*\u001b[39;49m\u001b[43mkwds\u001b[49m\u001b[43m)\u001b[49m\n",
      "File \u001b[0;32m~/Documents/Studium/Master/SS_23/VDA/venv/lib/python3.10/site-packages/pandas/core/nanops.py:96\u001b[0m, in \u001b[0;36mdisallow.__call__.<locals>._f\u001b[0;34m(*args, **kwargs)\u001b[0m\n\u001b[1;32m     94\u001b[0m \u001b[38;5;28;01mtry\u001b[39;00m:\n\u001b[1;32m     95\u001b[0m     \u001b[38;5;28;01mwith\u001b[39;00m np\u001b[38;5;241m.\u001b[39merrstate(invalid\u001b[38;5;241m=\u001b[39m\u001b[38;5;124m\"\u001b[39m\u001b[38;5;124mignore\u001b[39m\u001b[38;5;124m\"\u001b[39m):\n\u001b[0;32m---> 96\u001b[0m         \u001b[38;5;28;01mreturn\u001b[39;00m \u001b[43mf\u001b[49m\u001b[43m(\u001b[49m\u001b[38;5;241;43m*\u001b[39;49m\u001b[43margs\u001b[49m\u001b[43m,\u001b[49m\u001b[43m \u001b[49m\u001b[38;5;241;43m*\u001b[39;49m\u001b[38;5;241;43m*\u001b[39;49m\u001b[43mkwargs\u001b[49m\u001b[43m)\u001b[49m\n\u001b[1;32m     97\u001b[0m \u001b[38;5;28;01mexcept\u001b[39;00m \u001b[38;5;167;01mValueError\u001b[39;00m \u001b[38;5;28;01mas\u001b[39;00m e:\n\u001b[1;32m     98\u001b[0m     \u001b[38;5;66;03m# we want to transform an object array\u001b[39;00m\n\u001b[1;32m     99\u001b[0m     \u001b[38;5;66;03m# ValueError message to the more typical TypeError\u001b[39;00m\n\u001b[1;32m    100\u001b[0m     \u001b[38;5;66;03m# e.g. this is normally a disallowed function on\u001b[39;00m\n\u001b[1;32m    101\u001b[0m     \u001b[38;5;66;03m# object arrays that contain strings\u001b[39;00m\n\u001b[1;32m    102\u001b[0m     \u001b[38;5;28;01mif\u001b[39;00m is_object_dtype(args[\u001b[38;5;241m0\u001b[39m]):\n",
      "File \u001b[0;32m~/Documents/Studium/Master/SS_23/VDA/venv/lib/python3.10/site-packages/pandas/core/nanops.py:158\u001b[0m, in \u001b[0;36mbottleneck_switch.__call__.<locals>.f\u001b[0;34m(values, axis, skipna, **kwds)\u001b[0m\n\u001b[1;32m    156\u001b[0m         result \u001b[38;5;241m=\u001b[39m alt(values, axis\u001b[38;5;241m=\u001b[39maxis, skipna\u001b[38;5;241m=\u001b[39mskipna, \u001b[38;5;241m*\u001b[39m\u001b[38;5;241m*\u001b[39mkwds)\n\u001b[1;32m    157\u001b[0m \u001b[38;5;28;01melse\u001b[39;00m:\n\u001b[0;32m--> 158\u001b[0m     result \u001b[38;5;241m=\u001b[39m \u001b[43malt\u001b[49m\u001b[43m(\u001b[49m\u001b[43mvalues\u001b[49m\u001b[43m,\u001b[49m\u001b[43m \u001b[49m\u001b[43maxis\u001b[49m\u001b[38;5;241;43m=\u001b[39;49m\u001b[43maxis\u001b[49m\u001b[43m,\u001b[49m\u001b[43m \u001b[49m\u001b[43mskipna\u001b[49m\u001b[38;5;241;43m=\u001b[39;49m\u001b[43mskipna\u001b[49m\u001b[43m,\u001b[49m\u001b[43m \u001b[49m\u001b[38;5;241;43m*\u001b[39;49m\u001b[38;5;241;43m*\u001b[39;49m\u001b[43mkwds\u001b[49m\u001b[43m)\u001b[49m\n\u001b[1;32m    160\u001b[0m \u001b[38;5;28;01mreturn\u001b[39;00m result\n",
      "File \u001b[0;32m~/Documents/Studium/Master/SS_23/VDA/venv/lib/python3.10/site-packages/pandas/core/nanops.py:421\u001b[0m, in \u001b[0;36m_datetimelike_compat.<locals>.new_func\u001b[0;34m(values, axis, skipna, mask, **kwargs)\u001b[0m\n\u001b[1;32m    418\u001b[0m \u001b[38;5;28;01mif\u001b[39;00m datetimelike \u001b[38;5;129;01mand\u001b[39;00m mask \u001b[38;5;129;01mis\u001b[39;00m \u001b[38;5;28;01mNone\u001b[39;00m:\n\u001b[1;32m    419\u001b[0m     mask \u001b[38;5;241m=\u001b[39m isna(values)\n\u001b[0;32m--> 421\u001b[0m result \u001b[38;5;241m=\u001b[39m \u001b[43mfunc\u001b[49m\u001b[43m(\u001b[49m\u001b[43mvalues\u001b[49m\u001b[43m,\u001b[49m\u001b[43m \u001b[49m\u001b[43maxis\u001b[49m\u001b[38;5;241;43m=\u001b[39;49m\u001b[43maxis\u001b[49m\u001b[43m,\u001b[49m\u001b[43m \u001b[49m\u001b[43mskipna\u001b[49m\u001b[38;5;241;43m=\u001b[39;49m\u001b[43mskipna\u001b[49m\u001b[43m,\u001b[49m\u001b[43m \u001b[49m\u001b[43mmask\u001b[49m\u001b[38;5;241;43m=\u001b[39;49m\u001b[43mmask\u001b[49m\u001b[43m,\u001b[49m\u001b[43m \u001b[49m\u001b[38;5;241;43m*\u001b[39;49m\u001b[38;5;241;43m*\u001b[39;49m\u001b[43mkwargs\u001b[49m\u001b[43m)\u001b[49m\n\u001b[1;32m    423\u001b[0m \u001b[38;5;28;01mif\u001b[39;00m datetimelike:\n\u001b[1;32m    424\u001b[0m     result \u001b[38;5;241m=\u001b[39m _wrap_results(result, orig_values\u001b[38;5;241m.\u001b[39mdtype, fill_value\u001b[38;5;241m=\u001b[39miNaT)\n",
      "File \u001b[0;32m~/Documents/Studium/Master/SS_23/VDA/venv/lib/python3.10/site-packages/pandas/core/nanops.py:727\u001b[0m, in \u001b[0;36mnanmean\u001b[0;34m(values, axis, skipna, mask)\u001b[0m\n\u001b[1;32m    724\u001b[0m     dtype_count \u001b[38;5;241m=\u001b[39m dtype\n\u001b[1;32m    726\u001b[0m count \u001b[38;5;241m=\u001b[39m _get_counts(values\u001b[38;5;241m.\u001b[39mshape, mask, axis, dtype\u001b[38;5;241m=\u001b[39mdtype_count)\n\u001b[0;32m--> 727\u001b[0m the_sum \u001b[38;5;241m=\u001b[39m \u001b[43m_ensure_numeric\u001b[49m\u001b[43m(\u001b[49m\u001b[43mvalues\u001b[49m\u001b[38;5;241;43m.\u001b[39;49m\u001b[43msum\u001b[49m\u001b[43m(\u001b[49m\u001b[43maxis\u001b[49m\u001b[43m,\u001b[49m\u001b[43m \u001b[49m\u001b[43mdtype\u001b[49m\u001b[38;5;241;43m=\u001b[39;49m\u001b[43mdtype_sum\u001b[49m\u001b[43m)\u001b[49m\u001b[43m)\u001b[49m\n\u001b[1;32m    729\u001b[0m \u001b[38;5;28;01mif\u001b[39;00m axis \u001b[38;5;129;01mis\u001b[39;00m \u001b[38;5;129;01mnot\u001b[39;00m \u001b[38;5;28;01mNone\u001b[39;00m \u001b[38;5;129;01mand\u001b[39;00m \u001b[38;5;28mgetattr\u001b[39m(the_sum, \u001b[38;5;124m\"\u001b[39m\u001b[38;5;124mndim\u001b[39m\u001b[38;5;124m\"\u001b[39m, \u001b[38;5;28;01mFalse\u001b[39;00m):\n\u001b[1;32m    730\u001b[0m     count \u001b[38;5;241m=\u001b[39m cast(np\u001b[38;5;241m.\u001b[39mndarray, count)\n",
      "File \u001b[0;32m~/Documents/Studium/Master/SS_23/VDA/venv/lib/python3.10/site-packages/pandas/core/nanops.py:1686\u001b[0m, in \u001b[0;36m_ensure_numeric\u001b[0;34m(x)\u001b[0m\n\u001b[1;32m   1683\u001b[0m         x \u001b[38;5;241m=\u001b[39m x\u001b[38;5;241m.\u001b[39mastype(np\u001b[38;5;241m.\u001b[39mfloat64)\n\u001b[1;32m   1684\u001b[0m     \u001b[38;5;28;01mexcept\u001b[39;00m \u001b[38;5;167;01mValueError\u001b[39;00m \u001b[38;5;28;01mas\u001b[39;00m err:\n\u001b[1;32m   1685\u001b[0m         \u001b[38;5;66;03m# GH#29941 we get here with object arrays containing strs\u001b[39;00m\n\u001b[0;32m-> 1686\u001b[0m         \u001b[38;5;28;01mraise\u001b[39;00m \u001b[38;5;167;01mTypeError\u001b[39;00m(\u001b[38;5;124mf\u001b[39m\u001b[38;5;124m\"\u001b[39m\u001b[38;5;124mCould not convert \u001b[39m\u001b[38;5;132;01m{\u001b[39;00mx\u001b[38;5;132;01m}\u001b[39;00m\u001b[38;5;124m to numeric\u001b[39m\u001b[38;5;124m\"\u001b[39m) \u001b[38;5;28;01mfrom\u001b[39;00m \u001b[38;5;21;01merr\u001b[39;00m\n\u001b[1;32m   1687\u001b[0m \u001b[38;5;28;01melse\u001b[39;00m:\n\u001b[1;32m   1688\u001b[0m     \u001b[38;5;28;01mif\u001b[39;00m \u001b[38;5;129;01mnot\u001b[39;00m np\u001b[38;5;241m.\u001b[39many(np\u001b[38;5;241m.\u001b[39mimag(x)):\n",
      "\u001b[0;31mTypeError\u001b[0m: Could not convert ['ControlControlControlControlControlControlControlControlControlControlControlControlControlControlControlControlControlControlControlControlControlControlControlControlControlControlControlControlControlControlControlControlControlControlControlControlControlControlControlControlControlControlControlControlControlControlControlControlControlControlControlControlControlControlControlControlControlControlControlControlControlControlControlControlControlControlControlControlControlControlControlControlControlControlControlControlControlControlControlControlControlControlControlControlControlControlControlControlControlControlControlControlControlControlControlControlControlControlControlControlControlControlControlControlControlControlControlControlControlControlControlControlControlControlControlControlControlControlControlControlControlControlControlControlControlControlControlControlControlControlControlControlControlControlControlControlControlControlControlControlControlControlControlControlControlControlControlControlControlControlControlControlControlControlControlControlControlControlControlControlControlControlControlControlControlControlControlControlControlControlControlControlControlControlControlControlControlControlControlControlControlControlControlControlControlControlControlControlControlControlControlControlControlControlControlControlControlControlControlControlControlControlControlControlControlControlControlControlControlControlControlControlControlControlControlControlControlControlControlControlControlControlControlControlControlControlControlControlControlControlControlControlControlControlControlControlControlControlControlControlControlControlControlControlControlControlControlControlControlControlControlControlControlControlControlControlControlControlControlControlControlControlControlControlControlControlControlControlControlControlControlControlControlControlControlControlControlControlControlControlControlControlControlControlControlControlControlControlControlControlControlControlControlControlControlControlControlControlControlControlControlControlControlControlControlControlControlControlControlControlControlControlControlControlControlControlControlControlControlControlControlControlControlControlControlControlControlControlControlControlControlControlControlControlControlControlControlControlControlControlControlControlControlControlControlControlControlControlControlControlControlControlControlControlControlControlControlControlControlControlControlControlControlControlControlControlControlControlControlControlControlControlControlControlControlControlControlControlControlControlControlControlControlControlControlControlControlControlControlControlControlControlControlControlControlControlControlControlControlControlControlControlControlControlControlControlControlControlControlControlControlControlControlControlControlControlControlControlControlControlControlControlControlControlControlControlControlControlControlControlControlControlControlControlControlControlControlControlControlControlControlControlControlControlControlControlControlControlControlControlControlControlControlControlControlControlControlControlControlControlControlControlControlControlControlControlControlControlControlControlControlControlControlControlControlControlControlControlControlControlControlControlControlControlControlControlControlControlControlControlControlControlControlControlControlControlControlControlControlControlControlControlControlControlControlControlControlControlControlControlControlControlControlControlControlControlControlControlControlControlControlControlControlControlControlControlControlControlControlControlControlControlControlControlControlControlControlControlControlControlControlControlControlControlControlControlControlControlControlControlControlControlControlControlControlControlControlControlControlControlControlControlControlControlControlControlControlControlControlControlTs65DnTs65DnTs65DnTs65DnTs65DnTs65DnTs65DnTs65DnTs65DnTs65DnTs65DnTs65DnTs65DnTs65DnTs65DnTs65DnTs65DnTs65DnTs65DnTs65DnTs65DnTs65DnTs65DnTs65DnTs65DnTs65DnTs65DnTs65DnTs65DnTs65DnTs65DnTs65DnTs65DnTs65DnTs65DnTs65DnTs65DnTs65DnTs65DnTs65DnTs65DnTs65DnTs65DnTs65DnTs65DnTs65DnTs65DnTs65DnTs65DnTs65DnTs65DnTs65DnTs65DnTs65DnTs65DnTs65DnTs65DnTs65DnTs65DnTs65DnTs65DnTs65DnTs65DnTs65DnTs65DnTs65DnTs65DnTs65DnTs65DnTs65DnTs65DnTs65DnTs65DnTs65DnTs65DnTs65DnTs65DnTs65DnTs65DnTs65DnTs65DnTs65DnTs65DnTs65DnTs65DnTs65DnTs65DnTs65DnTs65DnTs65DnTs65DnTs65DnTs65DnTs65DnTs65DnTs65DnTs65DnTs65DnTs65DnTs65DnTs65DnTs65DnTs65DnTs65DnTs65DnTs65DnTs65DnTs65DnTs65DnTs65DnTs65DnTs65DnTs65DnTs65DnTs65DnTs65DnTs65DnTs65DnTs65DnTs65DnTs65DnTs65DnTs65DnTs65DnTs65DnTs65DnTs65DnTs65DnTs65DnTs65DnTs65DnTs65DnTs65DnTs65DnTs65DnTs65DnTs65DnTs65DnTs65DnTs65DnTs65DnTs65DnTs65DnTs65DnTs65DnTs65DnTs65DnTs65DnTs65DnTs65DnTs65DnTs65DnTs65DnTs65DnTs65DnTs65DnTs65DnTs65DnTs65DnTs65DnTs65DnTs65DnTs65DnTs65DnTs65DnTs65DnTs65DnTs65DnTs65DnTs65DnTs65DnTs65DnTs65DnTs65DnTs65DnTs65DnTs65DnTs65DnTs65DnTs65DnTs65DnTs65DnTs65DnTs65DnTs65DnTs65DnTs65DnTs65DnTs65DnTs65DnTs65DnTs65DnTs65DnTs65DnTs65DnTs65DnTs65DnTs65DnTs65DnTs65DnTs65DnTs65DnTs65DnTs65DnTs65DnTs65DnTs65DnTs65DnTs65DnTs65DnTs65DnTs65DnTs65DnTs65DnTs65DnTs65DnTs65DnTs65DnTs65DnTs65DnTs65DnTs65DnTs65DnTs65DnTs65DnTs65DnTs65DnTs65DnTs65DnTs65DnTs65DnTs65DnTs65DnTs65DnTs65DnTs65DnTs65DnTs65DnTs65DnTs65DnTs65DnTs65DnTs65DnTs65DnTs65DnTs65DnTs65DnTs65DnTs65DnTs65DnTs65DnTs65DnTs65DnTs65DnTs65DnTs65DnTs65DnTs65DnTs65DnTs65DnTs65DnTs65DnTs65DnTs65DnTs65DnTs65DnTs65DnTs65DnTs65DnTs65DnTs65DnTs65DnTs65DnTs65DnTs65DnTs65DnTs65DnTs65DnTs65DnTs65DnTs65DnTs65DnTs65DnTs65DnTs65DnTs65DnTs65DnTs65DnTs65DnTs65DnTs65DnTs65DnTs65DnTs65DnTs65DnTs65DnTs65DnTs65DnTs65DnTs65DnTs65DnTs65DnTs65DnTs65DnTs65DnTs65DnTs65DnTs65DnTs65DnTs65DnTs65DnTs65DnTs65DnTs65DnTs65DnTs65DnTs65DnTs65DnTs65DnTs65DnTs65DnTs65DnTs65DnTs65DnTs65DnTs65DnTs65DnTs65DnTs65DnTs65DnTs65DnTs65DnTs65DnTs65DnTs65DnTs65DnTs65DnTs65DnTs65DnTs65DnTs65DnTs65DnTs65DnTs65DnTs65DnTs65DnTs65DnTs65DnTs65DnTs65DnTs65DnTs65DnTs65DnTs65DnTs65DnTs65DnTs65DnTs65DnTs65DnTs65DnTs65DnTs65DnTs65DnTs65DnTs65DnTs65DnTs65DnTs65DnTs65DnTs65DnTs65DnTs65DnTs65DnTs65DnTs65DnTs65DnTs65DnTs65DnTs65DnTs65DnTs65DnTs65DnTs65DnTs65DnTs65DnTs65DnTs65DnTs65DnTs65DnTs65DnTs65DnTs65DnTs65DnTs65DnTs65DnTs65DnTs65DnTs65DnTs65DnTs65DnTs65DnTs65DnTs65DnTs65DnTs65DnTs65DnTs65DnTs65DnTs65DnTs65DnTs65DnTs65DnTs65DnTs65DnTs65DnTs65DnTs65DnTs65DnTs65DnTs65DnTs65DnTs65DnTs65DnTs65DnTs65DnTs65DnTs65DnTs65DnTs65DnTs65DnTs65DnTs65DnTs65DnTs65DnTs65DnTs65DnTs65DnTs65DnTs65DnTs65DnTs65DnTs65DnTs65DnTs65DnTs65DnTs65DnTs65DnTs65DnTs65DnTs65DnTs65DnTs65DnTs65DnTs65DnTs65DnTs65DnTs65DnTs65DnTs65DnTs65DnTs65DnTs65DnTs65DnTs65DnTs65DnTs65DnTs65DnTs65DnTs65DnTs65DnTs65DnTs65DnTs65DnTs65DnTs65DnTs65DnTs65DnTs65DnTs65DnTs65DnTs65DnTs65DnTs65DnTs65DnTs65DnTs65DnTs65DnTs65DnTs65DnTs65DnTs65DnTs65DnTs65DnTs65DnTs65DnTs65DnTs65DnTs65DnTs65DnTs65DnTs65DnTs65DnTs65DnTs65DnTs65DnTs65DnTs65DnTs65DnTs65DnTs65Dn'\n 'MemantineMemantineMemantineMemantineMemantineMemantineMemantineMemantineMemantineMemantineMemantineMemantineMemantineMemantineMemantineMemantineMemantineMemantineMemantineMemantineMemantineMemantineMemantineMemantineMemantineMemantineMemantineMemantineMemantineMemantineMemantineMemantineMemantineMemantineMemantineMemantineMemantineMemantineMemantineMemantineMemantineMemantineMemantineMemantineMemantineMemantineMemantineMemantineMemantineMemantineMemantineMemantineMemantineMemantineMemantineMemantineMemantineMemantineMemantineMemantineMemantineMemantineMemantineMemantineMemantineMemantineMemantineMemantineMemantineMemantineMemantineMemantineMemantineMemantineMemantineMemantineMemantineMemantineMemantineMemantineMemantineMemantineMemantineMemantineMemantineMemantineMemantineMemantineMemantineMemantineMemantineMemantineMemantineMemantineMemantineMemantineMemantineMemantineMemantineMemantineMemantineMemantineMemantineMemantineMemantineMemantineMemantineMemantineMemantineMemantineMemantineMemantineMemantineMemantineMemantineMemantineMemantineMemantineMemantineMemantineMemantineMemantineMemantineMemantineMemantineMemantineMemantineMemantineMemantineMemantineMemantineMemantineMemantineMemantineMemantineMemantineMemantineMemantineMemantineMemantineMemantineMemantineMemantineMemantineMemantineMemantineMemantineMemantineMemantineMemantineMemantineMemantineMemantineMemantineMemantineMemantineMemantineMemantineMemantineMemantineMemantineMemantineMemantineMemantineMemantineMemantineMemantineMemantineMemantineMemantineMemantineMemantineMemantineMemantineMemantineMemantineMemantineMemantineMemantineMemantineMemantineMemantineMemantineMemantineMemantineMemantineMemantineMemantineMemantineMemantineMemantineMemantineMemantineMemantineMemantineMemantineMemantineMemantineMemantineMemantineMemantineMemantineMemantineMemantineMemantineMemantineMemantineMemantineMemantineMemantineMemantineMemantineMemantineMemantineMemantineMemantineMemantineMemantineMemantineMemantineMemantineMemantineMemantineMemantineMemantineMemantineMemantineMemantineMemantineMemantineMemantineMemantineMemantineMemantineMemantineMemantineMemantineMemantineMemantineMemantineMemantineMemantineMemantineMemantineMemantineMemantineMemantineMemantineMemantineMemantineMemantineMemantineMemantineMemantineMemantineMemantineMemantineMemantineMemantineMemantineMemantineMemantineMemantineMemantineMemantineMemantineMemantineMemantineMemantineMemantineMemantineMemantineMemantineMemantineMemantineMemantineMemantineMemantineMemantineMemantineMemantineMemantineMemantineMemantineMemantineMemantineMemantineMemantineMemantineMemantineMemantineMemantineMemantineMemantineMemantineMemantineMemantineMemantineMemantineMemantineSalineSalineSalineSalineSalineSalineSalineSalineSalineSalineSalineSalineSalineSalineSalineSalineSalineSalineSalineSalineSalineSalineSalineSalineSalineSalineSalineSalineSalineSalineSalineSalineSalineSalineSalineSalineSalineSalineSalineSalineSalineSalineSalineSalineSalineSalineSalineSalineSalineSalineSalineSalineSalineSalineSalineSalineSalineSalineSalineSalineSalineSalineSalineSalineSalineSalineSalineSalineSalineSalineSalineSalineSalineSalineSalineSalineSalineSalineSalineSalineSalineSalineSalineSalineSalineSalineSalineSalineSalineSalineSalineSalineSalineSalineSalineSalineSalineSalineSalineSalineSalineSalineSalineSalineSalineSalineSalineSalineSalineSalineSalineSalineSalineSalineSalineSalineSalineSalineSalineSalineSalineSalineSalineSalineSalineSalineSalineSalineSalineSalineSalineSalineSalineSalineSalineSalineSalineSalineSalineSalineSalineSalineSalineSalineSalineSalineSalineSalineSalineSalineSalineSalineSalineSalineSalineSalineSalineSalineSalineSalineSalineSalineSalineSalineSalineSalineSalineSalineSalineSalineSalineSalineSalineSalineSalineSalineSalineSalineSalineSalineSalineSalineSalineSalineSalineSalineSalineSalineSalineSalineSalineSalineSalineSalineSalineSalineSalineSalineSalineSalineSalineSalineSalineSalineSalineSalineSalineSalineSalineSalineSalineSalineSalineSalineSalineSalineSalineSalineSalineSalineSalineSalineSalineSalineSalineSalineSalineSalineSalineSalineSalineSalineSalineSalineSalineSalineSalineSalineSalineSalineSalineSalineSalineSalineSalineSalineSalineSalineSalineSalineSalineSalineSalineSalineSalineSalineSalineSalineSalineSalineSalineSalineSalineSalineSalineSalineSalineSalineSalineSalineMemantineMemantineMemantineMemantineMemantineMemantineMemantineMemantineMemantineMemantineMemantineMemantineMemantineMemantineMemantineMemantineMemantineMemantineMemantineMemantineMemantineMemantineMemantineMemantineMemantineMemantineMemantineMemantineMemantineMemantineMemantineMemantineMemantineMemantineMemantineMemantineMemantineMemantineMemantineMemantineMemantineMemantineMemantineMemantineMemantineMemantineMemantineMemantineMemantineMemantineMemantineMemantineMemantineMemantineMemantineMemantineMemantineMemantineMemantineMemantineMemantineMemantineMemantineMemantineMemantineMemantineMemantineMemantineMemantineMemantineMemantineMemantineMemantineMemantineMemantineMemantineMemantineMemantineMemantineMemantineMemantineMemantineMemantineMemantineMemantineMemantineMemantineMemantineMemantineMemantineMemantineMemantineMemantineMemantineMemantineMemantineMemantineMemantineMemantineMemantineMemantineMemantineMemantineMemantineMemantineMemantineMemantineMemantineMemantineMemantineMemantineMemantineMemantineMemantineMemantineMemantineMemantineMemantineMemantineMemantineMemantineMemantineMemantineMemantineMemantineMemantineMemantineMemantineMemantineMemantineMemantineMemantineMemantineMemantineMemantineMemantineMemantineMemantineMemantineMemantineMemantineMemantineMemantineMemantineMemantineMemantineMemantineMemantineMemantineMemantineMemantineMemantineMemantineMemantineMemantineMemantineMemantineMemantineMemantineMemantineMemantineMemantineMemantineMemantineMemantineMemantineMemantineMemantineMemantineMemantineMemantineMemantineMemantineMemantineMemantineMemantineMemantineMemantineMemantineMemantineMemantineMemantineMemantineMemantineMemantineMemantineMemantineMemantineMemantineMemantineMemantineMemantineMemantineMemantineMemantineMemantineMemantineMemantineMemantineMemantineMemantineMemantineMemantineMemantineMemantineMemantineMemantineMemantineMemantineMemantineMemantineMemantineMemantineMemantineMemantineMemantineMemantineMemantineMemantineMemantineMemantineMemantineMemantineMemantineMemantineMemantineMemantineMemantineMemantineMemantineMemantineMemantineMemantineMemantineMemantineMemantineMemantineMemantineMemantineMemantineMemantineMemantineMemantineMemantineMemantineMemantineMemantineMemantineMemantineMemantineMemantineMemantineMemantineMemantineMemantineMemantineMemantineMemantineMemantineMemantineMemantineMemantineMemantineMemantineMemantineMemantineMemantineMemantineMemantineMemantineSalineSalineSalineSalineSalineSalineSalineSalineSalineSalineSalineSalineSalineSalineSalineSalineSalineSalineSalineSalineSalineSalineSalineSalineSalineSalineSalineSalineSalineSalineSalineSalineSalineSalineSalineSalineSalineSalineSalineSalineSalineSalineSalineSalineSalineSalineSalineSalineSalineSalineSalineSalineSalineSalineSalineSalineSalineSalineSalineSalineSalineSalineSalineSalineSalineSalineSalineSalineSalineSalineSalineSalineSalineSalineSalineSalineSalineSalineSalineSalineSalineSalineSalineSalineSalineSalineSalineSalineSalineSalineSalineSalineSalineSalineSalineSalineSalineSalineSalineSalineSalineSalineSalineSalineSalineSalineSalineSalineSalineSalineSalineSalineSalineSalineSalineSalineSalineSalineSalineSalineSalineSalineSalineSalineSalineSalineSalineSalineSalineSalineSalineSalineSalineSalineSalineSalineSalineSalineSalineSalineSalineSalineSalineSalineSalineSalineSalineSalineSalineSalineSalineSalineSalineSalineSalineSalineSalineSalineSalineSalineSalineSalineSalineSalineSalineSalineSalineSalineSalineSalineSalineSalineSalineSalineSalineSalineSalineSalineSalineSalineSalineSalineSalineSalineSalineSalineSalineSalineSalineSalineSalineSalineSalineSalineSalineSalineSalineSalineSalineSalineSalineSalineSalineSalineSalineSalineSalineSalineSalineSalineSalineSalineSalineSalineSalineSalineSalineSalineSalineSalineSalineSalineSalineSalineSalineSalineSalineSalineSalineSalineSalineSalineSalineSalineSalineSalineSalineSalineSalineSaline'\n 'C/SC/SC/SC/SC/SC/SC/SC/SC/SC/SC/SC/SC/SC/SC/SC/SC/SC/SC/SC/SC/SC/SC/SC/SC/SC/SC/SC/SC/SC/SC/SC/SC/SC/SC/SC/SC/SC/SC/SC/SC/SC/SC/SC/SC/SC/SC/SC/SC/SC/SC/SC/SC/SC/SC/SC/SC/SC/SC/SC/SC/SC/SC/SC/SC/SC/SC/SC/SC/SC/SC/SC/SC/SC/SC/SC/SC/SC/SC/SC/SC/SC/SC/SC/SC/SC/SC/SC/SC/SC/SC/SC/SC/SC/SC/SC/SC/SC/SC/SC/SC/SC/SC/SC/SC/SC/SC/SC/SC/SC/SC/SC/SC/SC/SC/SC/SC/SC/SC/SC/SC/SC/SC/SC/SC/SC/SC/SC/SC/SC/SC/SC/SC/SC/SC/SC/SC/SC/SC/SC/SC/SC/SC/SC/SC/SC/SC/SC/SC/SC/SS/CS/CS/CS/CS/CS/CS/CS/CS/CS/CS/CS/CS/CS/CS/CS/CS/CS/CS/CS/CS/CS/CS/CS/CS/CS/CS/CS/CS/CS/CS/CS/CS/CS/CS/CS/CS/CS/CS/CS/CS/CS/CS/CS/CS/CS/CS/CS/CS/CS/CS/CS/CS/CS/CS/CS/CS/CS/CS/CS/CS/CS/CS/CS/CS/CS/CS/CS/CS/CS/CS/CS/CS/CS/CS/CS/CS/CS/CS/CS/CS/CS/CS/CS/CS/CS/CS/CS/CS/CS/CS/CS/CS/CS/CS/CS/CS/CS/CS/CS/CS/CS/CS/CS/CS/CS/CS/CS/CS/CS/CS/CS/CS/CS/CS/CS/CS/CS/CS/CS/CS/CS/CS/CS/CS/CS/CS/CS/CS/CS/CS/CS/CS/CS/CS/CS/CS/CS/CS/CS/CS/CS/CS/CS/CS/CS/CS/CS/CS/CS/CC/SC/SC/SC/SC/SC/SC/SC/SC/SC/SC/SC/SC/SC/SC/SC/SC/SC/SC/SC/SC/SC/SC/SC/SC/SC/SC/SC/SC/SC/SC/SC/SC/SC/SC/SC/SC/SC/SC/SC/SC/SC/SC/SC/SC/SC/SC/SC/SC/SC/SC/SC/SC/SC/SC/SC/SC/SC/SC/SC/SC/SC/SC/SC/SC/SC/SC/SC/SC/SC/SC/SC/SC/SC/SC/SC/SC/SC/SC/SC/SC/SC/SC/SC/SC/SC/SC/SC/SC/SC/SC/SC/SC/SC/SC/SC/SC/SC/SC/SC/SC/SC/SC/SC/SC/SC/SC/SC/SC/SC/SC/SC/SC/SC/SC/SC/SC/SC/SC/SC/SC/SC/SC/SC/SC/SC/SC/SC/SC/SC/SC/SC/SC/SC/SC/SS/CS/CS/CS/CS/CS/CS/CS/CS/CS/CS/CS/CS/CS/CS/CS/CS/CS/CS/CS/CS/CS/CS/CS/CS/CS/CS/CS/CS/CS/CS/CS/CS/CS/CS/CS/CS/CS/CS/CS/CS/CS/CS/CS/CS/CS/CS/CS/CS/CS/CS/CS/CS/CS/CS/CS/CS/CS/CS/CS/CS/CS/CS/CS/CS/CS/CS/CS/CS/CS/CS/CS/CS/CS/CS/CS/CS/CS/CS/CS/CS/CS/CS/CS/CS/CS/CS/CS/CS/CS/CS/CS/CS/CS/CS/CS/CS/CS/CS/CS/CS/CS/CS/CS/CS/CS/CS/CS/CS/CS/CS/CS/CS/CS/CS/CS/CS/CS/CS/CS/CS/CS/CS/CS/CS/CS/CS/CS/CS/CS/CS/CS/CS/CS/CS/CC/SC/SC/SC/SC/SC/SC/SC/SC/SC/SC/SC/SC/SC/SC/SC/SC/SC/SC/SC/SC/SC/SC/SC/SC/SC/SC/SC/SC/SC/SC/SC/SC/SC/SC/SC/SC/SC/SC/SC/SC/SC/SC/SC/SC/SC/SC/SC/SC/SC/SC/SC/SC/SC/SC/SC/SC/SC/SC/SC/SC/SC/SC/SC/SC/SC/SC/SC/SC/SC/SC/SC/SC/SC/SC/SC/SC/SC/SC/SC/SC/SC/SC/SC/SC/SC/SC/SC/SC/SC/SC/SC/SC/SC/SC/SC/SC/SC/SC/SC/SC/SC/SC/SC/SC/SC/SC/SC/SC/SC/SC/SC/SC/SC/SC/SC/SC/SC/SC/SC/SC/SC/SC/SC/SC/SC/SC/SC/SC/SC/SC/SC/SC/SC/SC/SS/CS/CS/CS/CS/CS/CS/CS/CS/CS/CS/CS/CS/CS/CS/CS/CS/CS/CS/CS/CS/CS/CS/CS/CS/CS/CS/CS/CS/CS/CS/CS/CS/CS/CS/CS/CS/CS/CS/CS/CS/CS/CS/CS/CS/CS/CS/CS/CS/CS/CS/CS/CS/CS/CS/CS/CS/CS/CS/CS/CS/CS/CS/CS/CS/CS/CS/CS/CS/CS/CS/CS/CS/CS/CS/CS/CS/CS/CS/CS/CS/CS/CS/CS/CS/CS/CS/CS/CS/CS/CS/CS/CS/CS/CS/CS/CS/CS/CS/CS/CS/CS/CS/CS/CS/CS/CS/CS/CS/CS/CS/CS/CS/CS/CS/CS/CS/CS/CS/CS/CS/CS/CS/CS/CS/CS/CS/CS/CS/CS/CS/CS/CS/CS/CS/CC/SC/SC/SC/SC/SC/SC/SC/SC/SC/SC/SC/SC/SC/SC/SC/SC/SC/SC/SC/SC/SC/SC/SC/SC/SC/SC/SC/SC/SC/SC/SC/SC/SC/SC/SC/SC/SC/SC/SC/SC/SC/SC/SC/SC/SC/SC/SC/SC/SC/SC/SC/SC/SC/SC/SC/SC/SC/SC/SC/SC/SC/SC/SC/SC/SC/SC/SC/SC/SC/SC/SC/SC/SC/SC/SC/SC/SC/SC/SC/SC/SC/SC/SC/SC/SC/SC/SC/SC/SC/SC/SC/SC/SC/SC/SC/SC/SC/SC/SC/SC/SC/SC/SC/SC/SS/CS/CS/CS/CS/CS/CS/CS/CS/CS/CS/CS/CS/CS/CS/CS/CS/CS/CS/CS/CS/CS/CS/CS/CS/CS/CS/CS/CS/CS/CS/CS/CS/CS/CS/CS/CS/CS/CS/CS/CS/CS/CS/CS/CS/CS/CS/CS/CS/CS/CS/CS/CS/CS/CS/CS/CS/CS/CS/CS/CS/CS/CS/CS/CS/CS/CS/CS/CS/CS/CS/CS/CS/CS/CS/CS/CS/CS/CS/CS/CS/CS/CS/CS/CS/CS/CS/CS/CS/CS/CS/CS/CS/CS/CS/CS/CS/CS/CS/CS/CS/CS/CS/CS/CS/CS/CS/CS/CS/CS/CS/CS/CS/CS/CS/CS/CS/CS/CS/CS/CS/CS/CS/CS/CS/CS/CS/CS/CS/CS/CS/CS/CS/CS/CS/C'\n 'c-CS-mc-CS-mc-CS-mc-CS-mc-CS-mc-CS-mc-CS-mc-CS-mc-CS-mc-CS-mc-CS-mc-CS-mc-CS-mc-CS-mc-CS-mc-CS-mc-CS-mc-CS-mc-CS-mc-CS-mc-CS-mc-CS-mc-CS-mc-CS-mc-CS-mc-CS-mc-CS-mc-CS-mc-CS-mc-CS-mc-CS-mc-CS-mc-CS-mc-CS-mc-CS-mc-CS-mc-CS-mc-CS-mc-CS-mc-CS-mc-CS-mc-CS-mc-CS-mc-CS-mc-CS-mc-CS-mc-CS-mc-CS-mc-CS-mc-CS-mc-CS-mc-CS-mc-CS-mc-CS-mc-CS-mc-CS-mc-CS-mc-CS-mc-CS-mc-CS-mc-CS-mc-CS-mc-CS-mc-CS-mc-CS-mc-CS-mc-CS-mc-CS-mc-CS-mc-CS-mc-CS-mc-CS-mc-CS-mc-CS-mc-CS-mc-CS-mc-CS-mc-CS-mc-CS-mc-CS-mc-CS-mc-CS-mc-CS-mc-CS-mc-CS-mc-CS-mc-CS-mc-CS-mc-CS-mc-CS-mc-CS-mc-CS-mc-CS-mc-CS-mc-CS-mc-CS-mc-CS-mc-CS-mc-CS-mc-CS-mc-CS-mc-CS-mc-CS-mc-CS-mc-CS-mc-CS-mc-CS-mc-CS-mc-CS-mc-CS-mc-CS-mc-CS-mc-CS-mc-CS-mc-CS-mc-CS-mc-CS-mc-CS-mc-CS-mc-CS-mc-CS-mc-CS-mc-CS-mc-CS-mc-CS-mc-CS-mc-CS-mc-CS-mc-CS-mc-CS-mc-CS-mc-CS-mc-CS-mc-CS-mc-CS-mc-CS-mc-CS-mc-CS-mc-CS-mc-CS-mc-CS-mc-CS-mc-CS-mc-CS-mc-CS-mc-CS-mc-CS-mc-CS-mc-CS-mc-CS-mc-SC-mc-SC-mc-SC-mc-SC-mc-SC-mc-SC-mc-SC-mc-SC-mc-SC-mc-SC-mc-SC-mc-SC-mc-SC-mc-SC-mc-SC-mc-SC-mc-SC-mc-SC-mc-SC-mc-SC-mc-SC-mc-SC-mc-SC-mc-SC-mc-SC-mc-SC-mc-SC-mc-SC-mc-SC-mc-SC-mc-SC-mc-SC-mc-SC-mc-SC-mc-SC-mc-SC-mc-SC-mc-SC-mc-SC-mc-SC-mc-SC-mc-SC-mc-SC-mc-SC-mc-SC-mc-SC-mc-SC-mc-SC-mc-SC-mc-SC-mc-SC-mc-SC-mc-SC-mc-SC-mc-SC-mc-SC-mc-SC-mc-SC-mc-SC-mc-SC-mc-SC-mc-SC-mc-SC-mc-SC-mc-SC-mc-SC-mc-SC-mc-SC-mc-SC-mc-SC-mc-SC-mc-SC-mc-SC-mc-SC-mc-SC-mc-SC-mc-SC-mc-SC-mc-SC-mc-SC-mc-SC-mc-SC-mc-SC-mc-SC-mc-SC-mc-SC-mc-SC-mc-SC-mc-SC-mc-SC-mc-SC-mc-SC-mc-SC-mc-SC-mc-SC-mc-SC-mc-SC-mc-SC-mc-SC-mc-SC-mc-SC-mc-SC-mc-SC-mc-SC-mc-SC-mc-SC-mc-SC-mc-SC-mc-SC-mc-SC-mc-SC-mc-SC-mc-SC-mc-SC-mc-SC-mc-SC-mc-SC-mc-SC-mc-SC-mc-SC-mc-SC-mc-SC-mc-SC-mc-SC-mc-SC-mc-SC-mc-SC-mc-SC-mc-SC-mc-SC-mc-SC-mc-SC-mc-SC-mc-SC-mc-SC-mc-SC-mc-SC-mc-SC-mc-SC-mc-SC-mc-SC-mc-SC-mc-SC-mc-SC-mc-SC-mc-SC-mc-SC-mc-SC-mc-SC-mc-SC-mc-CS-sc-CS-sc-CS-sc-CS-sc-CS-sc-CS-sc-CS-sc-CS-sc-CS-sc-CS-sc-CS-sc-CS-sc-CS-sc-CS-sc-CS-sc-CS-sc-CS-sc-CS-sc-CS-sc-CS-sc-CS-sc-CS-sc-CS-sc-CS-sc-CS-sc-CS-sc-CS-sc-CS-sc-CS-sc-CS-sc-CS-sc-CS-sc-CS-sc-CS-sc-CS-sc-CS-sc-CS-sc-CS-sc-CS-sc-CS-sc-CS-sc-CS-sc-CS-sc-CS-sc-CS-sc-CS-sc-CS-sc-CS-sc-CS-sc-CS-sc-CS-sc-CS-sc-CS-sc-CS-sc-CS-sc-CS-sc-CS-sc-CS-sc-CS-sc-CS-sc-CS-sc-CS-sc-CS-sc-CS-sc-CS-sc-CS-sc-CS-sc-CS-sc-CS-sc-CS-sc-CS-sc-CS-sc-CS-sc-CS-sc-CS-sc-CS-sc-CS-sc-CS-sc-CS-sc-CS-sc-CS-sc-CS-sc-CS-sc-CS-sc-CS-sc-CS-sc-CS-sc-CS-sc-CS-sc-CS-sc-CS-sc-CS-sc-CS-sc-CS-sc-CS-sc-CS-sc-CS-sc-CS-sc-CS-sc-CS-sc-CS-sc-CS-sc-CS-sc-CS-sc-CS-sc-CS-sc-CS-sc-CS-sc-CS-sc-CS-sc-CS-sc-CS-sc-CS-sc-CS-sc-CS-sc-CS-sc-CS-sc-CS-sc-CS-sc-CS-sc-CS-sc-CS-sc-CS-sc-CS-sc-CS-sc-CS-sc-CS-sc-CS-sc-CS-sc-CS-sc-CS-sc-CS-sc-CS-sc-CS-sc-CS-sc-SC-sc-SC-sc-SC-sc-SC-sc-SC-sc-SC-sc-SC-sc-SC-sc-SC-sc-SC-sc-SC-sc-SC-sc-SC-sc-SC-sc-SC-sc-SC-sc-SC-sc-SC-sc-SC-sc-SC-sc-SC-sc-SC-sc-SC-sc-SC-sc-SC-sc-SC-sc-SC-sc-SC-sc-SC-sc-SC-sc-SC-sc-SC-sc-SC-sc-SC-sc-SC-sc-SC-sc-SC-sc-SC-sc-SC-sc-SC-sc-SC-sc-SC-sc-SC-sc-SC-sc-SC-sc-SC-sc-SC-sc-SC-sc-SC-sc-SC-sc-SC-sc-SC-sc-SC-sc-SC-sc-SC-sc-SC-sc-SC-sc-SC-sc-SC-sc-SC-sc-SC-sc-SC-sc-SC-sc-SC-sc-SC-sc-SC-sc-SC-sc-SC-sc-SC-sc-SC-sc-SC-sc-SC-sc-SC-sc-SC-sc-SC-sc-SC-sc-SC-sc-SC-sc-SC-sc-SC-sc-SC-sc-SC-sc-SC-sc-SC-sc-SC-sc-SC-sc-SC-sc-SC-sc-SC-sc-SC-sc-SC-sc-SC-sc-SC-sc-SC-sc-SC-sc-SC-sc-SC-sc-SC-sc-SC-sc-SC-sc-SC-sc-SC-sc-SC-sc-SC-sc-SC-sc-SC-sc-SC-sc-SC-sc-SC-sc-SC-sc-SC-sc-SC-sc-SC-sc-SC-sc-SC-sc-SC-sc-SC-sc-SC-sc-SC-sc-SC-sc-SC-sc-SC-sc-SC-sc-SC-sc-SC-sc-SC-sc-SC-sc-SC-sc-SC-sc-SC-sc-SC-sc-SC-sc-SC-sc-SC-sc-SC-st-CS-mt-CS-mt-CS-mt-CS-mt-CS-mt-CS-mt-CS-mt-CS-mt-CS-mt-CS-mt-CS-mt-CS-mt-CS-mt-CS-mt-CS-mt-CS-mt-CS-mt-CS-mt-CS-mt-CS-mt-CS-mt-CS-mt-CS-mt-CS-mt-CS-mt-CS-mt-CS-mt-CS-mt-CS-mt-CS-mt-CS-mt-CS-mt-CS-mt-CS-mt-CS-mt-CS-mt-CS-mt-CS-mt-CS-mt-CS-mt-CS-mt-CS-mt-CS-mt-CS-mt-CS-mt-CS-mt-CS-mt-CS-mt-CS-mt-CS-mt-CS-mt-CS-mt-CS-mt-CS-mt-CS-mt-CS-mt-CS-mt-CS-mt-CS-mt-CS-mt-CS-mt-CS-mt-CS-mt-CS-mt-CS-mt-CS-mt-CS-mt-CS-mt-CS-mt-CS-mt-CS-mt-CS-mt-CS-mt-CS-mt-CS-mt-CS-mt-CS-mt-CS-mt-CS-mt-CS-mt-CS-mt-CS-mt-CS-mt-CS-mt-CS-mt-CS-mt-CS-mt-CS-mt-CS-mt-CS-mt-CS-mt-CS-mt-CS-mt-CS-mt-CS-mt-CS-mt-CS-mt-CS-mt-CS-mt-CS-mt-CS-mt-CS-mt-CS-mt-CS-mt-CS-mt-CS-mt-CS-mt-CS-mt-CS-mt-CS-mt-CS-mt-CS-mt-CS-mt-CS-mt-CS-mt-CS-mt-CS-mt-CS-mt-CS-mt-CS-mt-CS-mt-CS-mt-CS-mt-CS-mt-CS-mt-CS-mt-CS-mt-CS-mt-CS-mt-CS-mt-CS-mt-CS-mt-CS-mt-CS-mt-CS-mt-SC-mt-SC-mt-SC-mt-SC-mt-SC-mt-SC-mt-SC-mt-SC-mt-SC-mt-SC-mt-SC-mt-SC-mt-SC-mt-SC-mt-SC-mt-SC-mt-SC-mt-SC-mt-SC-mt-SC-mt-SC-mt-SC-mt-SC-mt-SC-mt-SC-mt-SC-mt-SC-mt-SC-mt-SC-mt-SC-mt-SC-mt-SC-mt-SC-mt-SC-mt-SC-mt-SC-mt-SC-mt-SC-mt-SC-mt-SC-mt-SC-mt-SC-mt-SC-mt-SC-mt-SC-mt-SC-mt-SC-mt-SC-mt-SC-mt-SC-mt-SC-mt-SC-mt-SC-mt-SC-mt-SC-mt-SC-mt-SC-mt-SC-mt-SC-mt-SC-mt-SC-mt-SC-mt-SC-mt-SC-mt-SC-mt-SC-mt-SC-mt-SC-mt-SC-mt-SC-mt-SC-mt-SC-mt-SC-mt-SC-mt-SC-mt-SC-mt-SC-mt-SC-mt-SC-mt-SC-mt-SC-mt-SC-mt-SC-mt-SC-mt-SC-mt-SC-mt-SC-mt-SC-mt-SC-mt-SC-mt-SC-mt-SC-mt-SC-mt-SC-mt-SC-mt-SC-mt-SC-mt-SC-mt-SC-mt-SC-mt-SC-mt-SC-mt-SC-mt-SC-mt-SC-mt-SC-mt-SC-mt-SC-mt-SC-mt-SC-mt-SC-mt-SC-mt-SC-mt-SC-mt-SC-mt-SC-mt-SC-mt-SC-mt-SC-mt-SC-mt-SC-mt-SC-mt-SC-mt-SC-mt-SC-mt-SC-mt-SC-mt-SC-mt-SC-mt-SC-mt-SC-mt-SC-mt-SC-mt-SC-mt-SC-mt-CS-st-CS-st-CS-st-CS-st-CS-st-CS-st-CS-st-CS-st-CS-st-CS-st-CS-st-CS-st-CS-st-CS-st-CS-st-CS-st-CS-st-CS-st-CS-st-CS-st-CS-st-CS-st-CS-st-CS-st-CS-st-CS-st-CS-st-CS-st-CS-st-CS-st-CS-st-CS-st-CS-st-CS-st-CS-st-CS-st-CS-st-CS-st-CS-st-CS-st-CS-st-CS-st-CS-st-CS-st-CS-st-CS-st-CS-st-CS-st-CS-st-CS-st-CS-st-CS-st-CS-st-CS-st-CS-st-CS-st-CS-st-CS-st-CS-st-CS-st-CS-st-CS-st-CS-st-CS-st-CS-st-CS-st-CS-st-CS-st-CS-st-CS-st-CS-st-CS-st-CS-st-CS-st-CS-st-CS-st-CS-st-CS-st-CS-st-CS-st-CS-st-CS-st-CS-st-CS-st-CS-st-CS-st-CS-st-CS-st-CS-st-CS-st-CS-st-CS-st-CS-st-CS-st-CS-st-CS-st-CS-st-CS-st-CS-st-CS-st-CS-st-CS-st-CS-st-CS-st-CS-st-SC-st-SC-st-SC-st-SC-st-SC-st-SC-st-SC-st-SC-st-SC-st-SC-st-SC-st-SC-st-SC-st-SC-st-SC-st-SC-st-SC-st-SC-st-SC-st-SC-st-SC-st-SC-st-SC-st-SC-st-SC-st-SC-st-SC-st-SC-st-SC-st-SC-st-SC-st-SC-st-SC-st-SC-st-SC-st-SC-st-SC-st-SC-st-SC-st-SC-st-SC-st-SC-st-SC-st-SC-st-SC-st-SC-st-SC-st-SC-st-SC-st-SC-st-SC-st-SC-st-SC-st-SC-st-SC-st-SC-st-SC-st-SC-st-SC-st-SC-st-SC-st-SC-st-SC-st-SC-st-SC-st-SC-st-SC-st-SC-st-SC-st-SC-st-SC-st-SC-st-SC-st-SC-st-SC-st-SC-st-SC-st-SC-st-SC-st-SC-st-SC-st-SC-st-SC-st-SC-st-SC-st-SC-st-SC-st-SC-st-SC-st-SC-st-SC-st-SC-st-SC-st-SC-st-SC-st-SC-st-SC-st-SC-st-SC-st-SC-st-SC-st-SC-st-SC-st-SC-st-SC-st-SC-st-SC-st-SC-st-SC-st-SC-st-SC-st-SC-st-SC-st-SC-st-SC-st-SC-st-SC-st-SC-st-SC-st-SC-st-SC-st-SC-st-SC-st-SC-st-SC-st-SC-st-SC-st-SC-st-SC-st-SC-st-SC-st-SC-st-SC-st-SC-st-SC-s'] to numeric"
     ]
    }
   ],
   "source": [
    "df = pd.read_excel(\n",
    "    \"data/Data_Cortex_Nuclear.xls\",\n",
    "    index_col=\"MouseID\",\n",
    ")\n",
    "df = df.fillna(df.mean())"
   ]
  },
  {
   "cell_type": "markdown",
   "id": "8b6e2912",
   "metadata": {},
   "source": [
    "Now we do PCA, t-SNE and ISOMAP with parameters that we used in sheet 04."
   ]
  },
  {
   "cell_type": "code",
   "execution_count": 5,
   "id": "4bf7de38",
   "metadata": {},
   "outputs": [],
   "source": [
    "meta_columns = [\"Genotype\", \"Treatment\", \"Behavior\", \"class\"]\n",
    "data_columns = df.columns.difference(meta_columns)\n",
    "df_wo_meta = df[data_columns]\n",
    "\n",
    "df_scs = df_wo_meta[\n",
    "    np.logical_or(\n",
    "        df[\"class\"] == \"c-SC-s\",\n",
    "        df[\"class\"] == \"t-SC-s\",\n",
    "    )\n",
    "].copy()"
   ]
  },
  {
   "cell_type": "code",
   "execution_count": 6,
   "id": "8af24798",
   "metadata": {},
   "outputs": [
    {
     "ename": "ValueError",
     "evalue": "Input X contains NaN.\nPCA does not accept missing values encoded as NaN natively. For supervised learning, you might want to consider sklearn.ensemble.HistGradientBoostingClassifier and Regressor which accept missing values encoded as NaNs natively. Alternatively, it is possible to preprocess the data, for instance by using an imputer transformer in a pipeline or drop samples with missing values. See https://scikit-learn.org/stable/modules/impute.html You can find a list of all estimators that handle NaN values at the following page: https://scikit-learn.org/stable/modules/impute.html#estimators-that-handle-nan-values",
     "output_type": "error",
     "traceback": [
      "\u001b[0;31m---------------------------------------------------------------------------\u001b[0m",
      "\u001b[0;31mValueError\u001b[0m                                Traceback (most recent call last)",
      "Cell \u001b[0;32mIn[6], line 6\u001b[0m\n\u001b[1;32m      1\u001b[0m pca \u001b[38;5;241m=\u001b[39m sk\u001b[38;5;241m.\u001b[39mdecomposition\u001b[38;5;241m.\u001b[39mPCA(\n\u001b[1;32m      2\u001b[0m     n_components\u001b[38;5;241m=\u001b[39m\u001b[38;5;241m2\u001b[39m,\n\u001b[1;32m      3\u001b[0m )\n\u001b[1;32m      4\u001b[0m \u001b[38;5;66;03m# XXX There must be a better way to do this\u001b[39;00m\n\u001b[1;32m      5\u001b[0m df_pca \u001b[38;5;241m=\u001b[39m pd\u001b[38;5;241m.\u001b[39mDataFrame(\n\u001b[0;32m----> 6\u001b[0m     \u001b[43mpca\u001b[49m\u001b[38;5;241;43m.\u001b[39;49m\u001b[43mfit_transform\u001b[49m\u001b[43m(\u001b[49m\u001b[43mdf_scs\u001b[49m\u001b[43m)\u001b[49m,\n\u001b[1;32m      7\u001b[0m     columns\u001b[38;5;241m=\u001b[39m[\u001b[38;5;124m\"\u001b[39m\u001b[38;5;124mx\u001b[39m\u001b[38;5;124m\"\u001b[39m, \u001b[38;5;124m\"\u001b[39m\u001b[38;5;124my\u001b[39m\u001b[38;5;124m\"\u001b[39m],\n\u001b[1;32m      8\u001b[0m     index\u001b[38;5;241m=\u001b[39mdf_scs\u001b[38;5;241m.\u001b[39mindex,\n\u001b[1;32m      9\u001b[0m )\n\u001b[1;32m     10\u001b[0m df_pca[df\u001b[38;5;241m.\u001b[39mcolumns] \u001b[38;5;241m=\u001b[39m df\n",
      "File \u001b[0;32m~/Documents/Studium/Master/SS_23/VDA/venv/lib/python3.10/site-packages/sklearn/utils/_set_output.py:140\u001b[0m, in \u001b[0;36m_wrap_method_output.<locals>.wrapped\u001b[0;34m(self, X, *args, **kwargs)\u001b[0m\n\u001b[1;32m    138\u001b[0m \u001b[38;5;129m@wraps\u001b[39m(f)\n\u001b[1;32m    139\u001b[0m \u001b[38;5;28;01mdef\u001b[39;00m \u001b[38;5;21mwrapped\u001b[39m(\u001b[38;5;28mself\u001b[39m, X, \u001b[38;5;241m*\u001b[39margs, \u001b[38;5;241m*\u001b[39m\u001b[38;5;241m*\u001b[39mkwargs):\n\u001b[0;32m--> 140\u001b[0m     data_to_wrap \u001b[38;5;241m=\u001b[39m \u001b[43mf\u001b[49m\u001b[43m(\u001b[49m\u001b[38;5;28;43mself\u001b[39;49m\u001b[43m,\u001b[49m\u001b[43m \u001b[49m\u001b[43mX\u001b[49m\u001b[43m,\u001b[49m\u001b[43m \u001b[49m\u001b[38;5;241;43m*\u001b[39;49m\u001b[43margs\u001b[49m\u001b[43m,\u001b[49m\u001b[43m \u001b[49m\u001b[38;5;241;43m*\u001b[39;49m\u001b[38;5;241;43m*\u001b[39;49m\u001b[43mkwargs\u001b[49m\u001b[43m)\u001b[49m\n\u001b[1;32m    141\u001b[0m     \u001b[38;5;28;01mif\u001b[39;00m \u001b[38;5;28misinstance\u001b[39m(data_to_wrap, \u001b[38;5;28mtuple\u001b[39m):\n\u001b[1;32m    142\u001b[0m         \u001b[38;5;66;03m# only wrap the first output for cross decomposition\u001b[39;00m\n\u001b[1;32m    143\u001b[0m         \u001b[38;5;28;01mreturn\u001b[39;00m (\n\u001b[1;32m    144\u001b[0m             _wrap_data_with_container(method, data_to_wrap[\u001b[38;5;241m0\u001b[39m], X, \u001b[38;5;28mself\u001b[39m),\n\u001b[1;32m    145\u001b[0m             \u001b[38;5;241m*\u001b[39mdata_to_wrap[\u001b[38;5;241m1\u001b[39m:],\n\u001b[1;32m    146\u001b[0m         )\n",
      "File \u001b[0;32m~/Documents/Studium/Master/SS_23/VDA/venv/lib/python3.10/site-packages/sklearn/decomposition/_pca.py:462\u001b[0m, in \u001b[0;36mPCA.fit_transform\u001b[0;34m(self, X, y)\u001b[0m\n\u001b[1;32m    439\u001b[0m \u001b[38;5;250m\u001b[39m\u001b[38;5;124;03m\"\"\"Fit the model with X and apply the dimensionality reduction on X.\u001b[39;00m\n\u001b[1;32m    440\u001b[0m \n\u001b[1;32m    441\u001b[0m \u001b[38;5;124;03mParameters\u001b[39;00m\n\u001b[0;32m   (...)\u001b[0m\n\u001b[1;32m    458\u001b[0m \u001b[38;5;124;03mC-ordered array, use 'np.ascontiguousarray'.\u001b[39;00m\n\u001b[1;32m    459\u001b[0m \u001b[38;5;124;03m\"\"\"\u001b[39;00m\n\u001b[1;32m    460\u001b[0m \u001b[38;5;28mself\u001b[39m\u001b[38;5;241m.\u001b[39m_validate_params()\n\u001b[0;32m--> 462\u001b[0m U, S, Vt \u001b[38;5;241m=\u001b[39m \u001b[38;5;28;43mself\u001b[39;49m\u001b[38;5;241;43m.\u001b[39;49m\u001b[43m_fit\u001b[49m\u001b[43m(\u001b[49m\u001b[43mX\u001b[49m\u001b[43m)\u001b[49m\n\u001b[1;32m    463\u001b[0m U \u001b[38;5;241m=\u001b[39m U[:, : \u001b[38;5;28mself\u001b[39m\u001b[38;5;241m.\u001b[39mn_components_]\n\u001b[1;32m    465\u001b[0m \u001b[38;5;28;01mif\u001b[39;00m \u001b[38;5;28mself\u001b[39m\u001b[38;5;241m.\u001b[39mwhiten:\n\u001b[1;32m    466\u001b[0m     \u001b[38;5;66;03m# X_new = X * V / S * sqrt(n_samples) = U * sqrt(n_samples)\u001b[39;00m\n",
      "File \u001b[0;32m~/Documents/Studium/Master/SS_23/VDA/venv/lib/python3.10/site-packages/sklearn/decomposition/_pca.py:485\u001b[0m, in \u001b[0;36mPCA._fit\u001b[0;34m(self, X)\u001b[0m\n\u001b[1;32m    479\u001b[0m \u001b[38;5;28;01mif\u001b[39;00m issparse(X):\n\u001b[1;32m    480\u001b[0m     \u001b[38;5;28;01mraise\u001b[39;00m \u001b[38;5;167;01mTypeError\u001b[39;00m(\n\u001b[1;32m    481\u001b[0m         \u001b[38;5;124m\"\u001b[39m\u001b[38;5;124mPCA does not support sparse input. See \u001b[39m\u001b[38;5;124m\"\u001b[39m\n\u001b[1;32m    482\u001b[0m         \u001b[38;5;124m\"\u001b[39m\u001b[38;5;124mTruncatedSVD for a possible alternative.\u001b[39m\u001b[38;5;124m\"\u001b[39m\n\u001b[1;32m    483\u001b[0m     )\n\u001b[0;32m--> 485\u001b[0m X \u001b[38;5;241m=\u001b[39m \u001b[38;5;28;43mself\u001b[39;49m\u001b[38;5;241;43m.\u001b[39;49m\u001b[43m_validate_data\u001b[49m\u001b[43m(\u001b[49m\n\u001b[1;32m    486\u001b[0m \u001b[43m    \u001b[49m\u001b[43mX\u001b[49m\u001b[43m,\u001b[49m\u001b[43m \u001b[49m\u001b[43mdtype\u001b[49m\u001b[38;5;241;43m=\u001b[39;49m\u001b[43m[\u001b[49m\u001b[43mnp\u001b[49m\u001b[38;5;241;43m.\u001b[39;49m\u001b[43mfloat64\u001b[49m\u001b[43m,\u001b[49m\u001b[43m \u001b[49m\u001b[43mnp\u001b[49m\u001b[38;5;241;43m.\u001b[39;49m\u001b[43mfloat32\u001b[49m\u001b[43m]\u001b[49m\u001b[43m,\u001b[49m\u001b[43m \u001b[49m\u001b[43mensure_2d\u001b[49m\u001b[38;5;241;43m=\u001b[39;49m\u001b[38;5;28;43;01mTrue\u001b[39;49;00m\u001b[43m,\u001b[49m\u001b[43m \u001b[49m\u001b[43mcopy\u001b[49m\u001b[38;5;241;43m=\u001b[39;49m\u001b[38;5;28;43mself\u001b[39;49m\u001b[38;5;241;43m.\u001b[39;49m\u001b[43mcopy\u001b[49m\n\u001b[1;32m    487\u001b[0m \u001b[43m\u001b[49m\u001b[43m)\u001b[49m\n\u001b[1;32m    489\u001b[0m \u001b[38;5;66;03m# Handle n_components==None\u001b[39;00m\n\u001b[1;32m    490\u001b[0m \u001b[38;5;28;01mif\u001b[39;00m \u001b[38;5;28mself\u001b[39m\u001b[38;5;241m.\u001b[39mn_components \u001b[38;5;129;01mis\u001b[39;00m \u001b[38;5;28;01mNone\u001b[39;00m:\n",
      "File \u001b[0;32m~/Documents/Studium/Master/SS_23/VDA/venv/lib/python3.10/site-packages/sklearn/base.py:565\u001b[0m, in \u001b[0;36mBaseEstimator._validate_data\u001b[0;34m(self, X, y, reset, validate_separately, **check_params)\u001b[0m\n\u001b[1;32m    563\u001b[0m     \u001b[38;5;28;01mraise\u001b[39;00m \u001b[38;5;167;01mValueError\u001b[39;00m(\u001b[38;5;124m\"\u001b[39m\u001b[38;5;124mValidation should be done on X, y or both.\u001b[39m\u001b[38;5;124m\"\u001b[39m)\n\u001b[1;32m    564\u001b[0m \u001b[38;5;28;01melif\u001b[39;00m \u001b[38;5;129;01mnot\u001b[39;00m no_val_X \u001b[38;5;129;01mand\u001b[39;00m no_val_y:\n\u001b[0;32m--> 565\u001b[0m     X \u001b[38;5;241m=\u001b[39m \u001b[43mcheck_array\u001b[49m\u001b[43m(\u001b[49m\u001b[43mX\u001b[49m\u001b[43m,\u001b[49m\u001b[43m \u001b[49m\u001b[43minput_name\u001b[49m\u001b[38;5;241;43m=\u001b[39;49m\u001b[38;5;124;43m\"\u001b[39;49m\u001b[38;5;124;43mX\u001b[39;49m\u001b[38;5;124;43m\"\u001b[39;49m\u001b[43m,\u001b[49m\u001b[43m \u001b[49m\u001b[38;5;241;43m*\u001b[39;49m\u001b[38;5;241;43m*\u001b[39;49m\u001b[43mcheck_params\u001b[49m\u001b[43m)\u001b[49m\n\u001b[1;32m    566\u001b[0m     out \u001b[38;5;241m=\u001b[39m X\n\u001b[1;32m    567\u001b[0m \u001b[38;5;28;01melif\u001b[39;00m no_val_X \u001b[38;5;129;01mand\u001b[39;00m \u001b[38;5;129;01mnot\u001b[39;00m no_val_y:\n",
      "File \u001b[0;32m~/Documents/Studium/Master/SS_23/VDA/venv/lib/python3.10/site-packages/sklearn/utils/validation.py:921\u001b[0m, in \u001b[0;36mcheck_array\u001b[0;34m(array, accept_sparse, accept_large_sparse, dtype, order, copy, force_all_finite, ensure_2d, allow_nd, ensure_min_samples, ensure_min_features, estimator, input_name)\u001b[0m\n\u001b[1;32m    915\u001b[0m         \u001b[38;5;28;01mraise\u001b[39;00m \u001b[38;5;167;01mValueError\u001b[39;00m(\n\u001b[1;32m    916\u001b[0m             \u001b[38;5;124m\"\u001b[39m\u001b[38;5;124mFound array with dim \u001b[39m\u001b[38;5;132;01m%d\u001b[39;00m\u001b[38;5;124m. \u001b[39m\u001b[38;5;132;01m%s\u001b[39;00m\u001b[38;5;124m expected <= 2.\u001b[39m\u001b[38;5;124m\"\u001b[39m\n\u001b[1;32m    917\u001b[0m             \u001b[38;5;241m%\u001b[39m (array\u001b[38;5;241m.\u001b[39mndim, estimator_name)\n\u001b[1;32m    918\u001b[0m         )\n\u001b[1;32m    920\u001b[0m     \u001b[38;5;28;01mif\u001b[39;00m force_all_finite:\n\u001b[0;32m--> 921\u001b[0m         \u001b[43m_assert_all_finite\u001b[49m\u001b[43m(\u001b[49m\n\u001b[1;32m    922\u001b[0m \u001b[43m            \u001b[49m\u001b[43marray\u001b[49m\u001b[43m,\u001b[49m\n\u001b[1;32m    923\u001b[0m \u001b[43m            \u001b[49m\u001b[43minput_name\u001b[49m\u001b[38;5;241;43m=\u001b[39;49m\u001b[43minput_name\u001b[49m\u001b[43m,\u001b[49m\n\u001b[1;32m    924\u001b[0m \u001b[43m            \u001b[49m\u001b[43mestimator_name\u001b[49m\u001b[38;5;241;43m=\u001b[39;49m\u001b[43mestimator_name\u001b[49m\u001b[43m,\u001b[49m\n\u001b[1;32m    925\u001b[0m \u001b[43m            \u001b[49m\u001b[43mallow_nan\u001b[49m\u001b[38;5;241;43m=\u001b[39;49m\u001b[43mforce_all_finite\u001b[49m\u001b[43m \u001b[49m\u001b[38;5;241;43m==\u001b[39;49m\u001b[43m \u001b[49m\u001b[38;5;124;43m\"\u001b[39;49m\u001b[38;5;124;43mallow-nan\u001b[39;49m\u001b[38;5;124;43m\"\u001b[39;49m\u001b[43m,\u001b[49m\n\u001b[1;32m    926\u001b[0m \u001b[43m        \u001b[49m\u001b[43m)\u001b[49m\n\u001b[1;32m    928\u001b[0m \u001b[38;5;28;01mif\u001b[39;00m ensure_min_samples \u001b[38;5;241m>\u001b[39m \u001b[38;5;241m0\u001b[39m:\n\u001b[1;32m    929\u001b[0m     n_samples \u001b[38;5;241m=\u001b[39m _num_samples(array)\n",
      "File \u001b[0;32m~/Documents/Studium/Master/SS_23/VDA/venv/lib/python3.10/site-packages/sklearn/utils/validation.py:161\u001b[0m, in \u001b[0;36m_assert_all_finite\u001b[0;34m(X, allow_nan, msg_dtype, estimator_name, input_name)\u001b[0m\n\u001b[1;32m    144\u001b[0m \u001b[38;5;28;01mif\u001b[39;00m estimator_name \u001b[38;5;129;01mand\u001b[39;00m input_name \u001b[38;5;241m==\u001b[39m \u001b[38;5;124m\"\u001b[39m\u001b[38;5;124mX\u001b[39m\u001b[38;5;124m\"\u001b[39m \u001b[38;5;129;01mand\u001b[39;00m has_nan_error:\n\u001b[1;32m    145\u001b[0m     \u001b[38;5;66;03m# Improve the error message on how to handle missing values in\u001b[39;00m\n\u001b[1;32m    146\u001b[0m     \u001b[38;5;66;03m# scikit-learn.\u001b[39;00m\n\u001b[1;32m    147\u001b[0m     msg_err \u001b[38;5;241m+\u001b[39m\u001b[38;5;241m=\u001b[39m (\n\u001b[1;32m    148\u001b[0m         \u001b[38;5;124mf\u001b[39m\u001b[38;5;124m\"\u001b[39m\u001b[38;5;130;01m\\n\u001b[39;00m\u001b[38;5;132;01m{\u001b[39;00mestimator_name\u001b[38;5;132;01m}\u001b[39;00m\u001b[38;5;124m does not accept missing values\u001b[39m\u001b[38;5;124m\"\u001b[39m\n\u001b[1;32m    149\u001b[0m         \u001b[38;5;124m\"\u001b[39m\u001b[38;5;124m encoded as NaN natively. For supervised learning, you might want\u001b[39m\u001b[38;5;124m\"\u001b[39m\n\u001b[0;32m   (...)\u001b[0m\n\u001b[1;32m    159\u001b[0m         \u001b[38;5;124m\"\u001b[39m\u001b[38;5;124m#estimators-that-handle-nan-values\u001b[39m\u001b[38;5;124m\"\u001b[39m\n\u001b[1;32m    160\u001b[0m     )\n\u001b[0;32m--> 161\u001b[0m \u001b[38;5;28;01mraise\u001b[39;00m \u001b[38;5;167;01mValueError\u001b[39;00m(msg_err)\n",
      "\u001b[0;31mValueError\u001b[0m: Input X contains NaN.\nPCA does not accept missing values encoded as NaN natively. For supervised learning, you might want to consider sklearn.ensemble.HistGradientBoostingClassifier and Regressor which accept missing values encoded as NaNs natively. Alternatively, it is possible to preprocess the data, for instance by using an imputer transformer in a pipeline or drop samples with missing values. See https://scikit-learn.org/stable/modules/impute.html You can find a list of all estimators that handle NaN values at the following page: https://scikit-learn.org/stable/modules/impute.html#estimators-that-handle-nan-values"
     ]
    }
   ],
   "source": [
    "pca = sk.decomposition.PCA(\n",
    "    n_components=2,\n",
    ")\n",
    "# XXX There must be a better way to do this\n",
    "df_pca = pd.DataFrame(\n",
    "    pca.fit_transform(df_scs),\n",
    "    columns=[\"x\", \"y\"],\n",
    "    index=df_scs.index,\n",
    ")\n",
    "df_pca[df.columns] = df"
   ]
  },
  {
   "cell_type": "code",
   "execution_count": null,
   "id": "81613321",
   "metadata": {},
   "outputs": [],
   "source": [
    "# We don't care that the calculation is expensive\n",
    "warnings.simplefilter(\n",
    "    action=\"ignore\",\n",
    "    category=sp.sparse.SparseEfficiencyWarning,\n",
    ")\n",
    "\n",
    "isomap = sk.manifold.Isomap(\n",
    "    n_neighbors=20,\n",
    ")\n",
    "\n",
    "df_isomap = pd.DataFrame(\n",
    "    isomap.fit_transform(df_scs),\n",
    "    columns=[\"x\", \"y\"],\n",
    "    index=df_scs.index,\n",
    ")\n",
    "\n",
    "df_isomap[df.columns] = df"
   ]
  },
  {
   "cell_type": "code",
   "execution_count": null,
   "id": "70677141",
   "metadata": {},
   "outputs": [],
   "source": [
    "tsne = sk.manifold.TSNE(\n",
    "    perplexity=15,\n",
    ")\n",
    "\n",
    "df_tsne = pd.DataFrame(\n",
    "    tsne.fit_transform(df_scs),\n",
    "    columns=[\"x\", \"y\"],\n",
    "    index=df_scs.index,\n",
    ")\n",
    "\n",
    "df_tsne[df.columns] = df"
   ]
  },
  {
   "cell_type": "markdown",
   "id": "6cf8dcf0",
   "metadata": {},
   "source": [
    "Now create the dash app."
   ]
  },
  {
   "cell_type": "code",
   "execution_count": null,
   "id": "c840d7ef",
   "metadata": {},
   "outputs": [],
   "source": [
    "# https://dash.plotly.com/workspaces/using-dash-in-jupyter-and-workspaces"
   ]
  },
  {
   "cell_type": "code",
   "execution_count": null,
   "id": "4ad271dc",
   "metadata": {},
   "outputs": [],
   "source": [
    "app = JupyterDash(__name__)"
   ]
  },
  {
   "cell_type": "code",
   "execution_count": null,
   "id": "47de4429",
   "metadata": {},
   "outputs": [],
   "source": [
    "app.layout = html.Div(\n",
    "    children=[\n",
    "        html.Div(\n",
    "            children=[\n",
    "                html.Div(\n",
    "                    children=[\n",
    "                        # First Graph\n",
    "                        dcc.RadioItems(\n",
    "                            [\"PCA\", \"ISOMAP\", \"t-SNE\"],\n",
    "                            \"PCA\",\n",
    "                            id=\"radio-items-dim-reduction\",\n",
    "                        ),\n",
    "                        dcc.Graph(\n",
    "                            figure={},\n",
    "                            id=\"graph-dim-reduction\",\n",
    "                        ),\n",
    "                    ],\n",
    "                    className=\"column\",\n",
    "                ),\n",
    "                html.Div(\n",
    "                    children=[\n",
    "                        # Second Graph\n",
    "                        dcc.Dropdown(\n",
    "                            data_columns,\n",
    "                            data_columns[0],\n",
    "                            id=\"dropdown-x-axis\",\n",
    "                        ),\n",
    "                        dcc.Dropdown(\n",
    "                            data_columns,\n",
    "                            data_columns[0],\n",
    "                            id=\"dropdown-y-axis\",\n",
    "                        ),\n",
    "                        dcc.Graph(\n",
    "                            figure={},\n",
    "                            id=\"graph-xy\",\n",
    "                        ),\n",
    "                    ],\n",
    "                    className=\"column\",\n",
    "                ),\n",
    "            ],\n",
    "            className=\"row\",\n",
    "        ),\n",
    "        # Button for adding things\n",
    "        html.Button(\n",
    "            \"Add\",\n",
    "            id=\"button-add\",\n",
    "        ),\n",
    "        html.Div(children=[], id=\"div-user-defined-graphs\"),\n",
    "    ],\n",
    ")"
   ]
  },
  {
   "cell_type": "markdown",
   "id": "9431b016",
   "metadata": {},
   "source": [
    "First add the radio callback as subtask a) asked us to."
   ]
  },
  {
   "cell_type": "code",
   "execution_count": null,
   "id": "fc6531ef",
   "metadata": {},
   "outputs": [],
   "source": [
    "@app.callback(\n",
    "    Output(\n",
    "        component_id=\"graph-dim-reduction\",\n",
    "        component_property=\"figure\",\n",
    "    ),\n",
    "    Input(\n",
    "        component_id=\"radio-items-dim-reduction\",\n",
    "        component_property=\"value\",\n",
    "    ),\n",
    ")\n",
    "def update_graph_dim_reduction(dim_reduction):\n",
    "    df = None\n",
    "    if dim_reduction == \"PCA\":\n",
    "        df = df_pca\n",
    "    elif dim_reduction == \"ISOMAP\":\n",
    "        df = df_isomap\n",
    "    elif dim_reduction == \"t-SNE\":\n",
    "        df = df_tsne\n",
    "    else:\n",
    "        assert False, \"Nothing selected\"\n",
    "\n",
    "    fig = px.scatter(\n",
    "        df,\n",
    "        x=\"x\",\n",
    "        y=\"y\",\n",
    "    )\n",
    "    return fig"
   ]
  },
  {
   "cell_type": "markdown",
   "id": "420a83b7",
   "metadata": {},
   "source": [
    "Now add a callback to update the second graph."
   ]
  },
  {
   "cell_type": "code",
   "execution_count": null,
   "id": "e426498b",
   "metadata": {},
   "outputs": [],
   "source": [
    "@app.callback(\n",
    "    Output(\n",
    "        component_id=\"graph-xy\",\n",
    "        component_property=\"figure\",\n",
    "    ),\n",
    "    Input(\n",
    "        component_id=\"dropdown-x-axis\",\n",
    "        component_property=\"value\",\n",
    "    ),\n",
    "    Input(\n",
    "        component_id=\"dropdown-y-axis\",\n",
    "        component_property=\"value\",\n",
    "    ),\n",
    ")\n",
    "def update_graph_xy(x_axis, y_axis):\n",
    "    assert x_axis is not None, \"Nothing selected\"\n",
    "    assert y_axis is not None, \"Nothing selected\"\n",
    "\n",
    "    fig = px.scatter(\n",
    "        df,\n",
    "        x=x_axis,\n",
    "        y=y_axis,\n",
    "    )\n",
    "    return fig"
   ]
  },
  {
   "cell_type": "markdown",
   "id": "4ff43b65",
   "metadata": {},
   "source": [
    "Now define the callback for the button."
   ]
  },
  {
   "cell_type": "code",
   "execution_count": null,
   "id": "5f2889ed",
   "metadata": {},
   "outputs": [],
   "source": [
    "@app.callback(\n",
    "    Output(\n",
    "        component_id=\"div-user-defined-graphs\",\n",
    "        component_property=\"children\",\n",
    "    ),\n",
    "    Input(\"button-add\", \"n_clicks\"),\n",
    "    State(\n",
    "        component_id=\"dropdown-x-axis\",\n",
    "        component_property=\"value\",\n",
    "    ),\n",
    "    State(\n",
    "        component_id=\"dropdown-y-axis\",\n",
    "        component_property=\"value\",\n",
    "    ),\n",
    "    State(\n",
    "        component_id=\"div-user-defined-graphs\",\n",
    "        component_property=\"children\",\n",
    "    ),\n",
    "    # We don't want to show a graph when the user didn't click.\n",
    "    prevent_initial_call=True,\n",
    ")\n",
    "def update_div_user_defined_graphs(_, x_axis, y_axis, children):\n",
    "    assert x_axis is not None, \"Nothing selected\"\n",
    "    assert y_axis is not None, \"Nothing selected\"\n",
    "\n",
    "    # Probably it would be better to just copy the figure from above, but anyways\n",
    "    fig = px.scatter(\n",
    "        df,\n",
    "        x=x_axis,\n",
    "        y=y_axis,\n",
    "    )\n",
    "    graph = dcc.Graph(figure=fig)\n",
    "    children.append(graph)\n",
    "    return children"
   ]
  },
  {
   "cell_type": "markdown",
   "id": "15f83e83",
   "metadata": {},
   "source": [
    "Now run the thing."
   ]
  },
  {
   "cell_type": "code",
   "execution_count": null,
   "id": "5fdd6961",
   "metadata": {},
   "outputs": [],
   "source": [
    "if __name__ == \"__main__\":\n",
    "    app.run_server()"
   ]
  },
  {
   "cell_type": "markdown",
   "id": "572d62f9",
   "metadata": {},
   "source": [
    "### b)"
   ]
  },
  {
   "cell_type": "markdown",
   "id": "f6c6ab41",
   "metadata": {},
   "source": [
    "It made sense to combine all tasks in one so pleas have a look at a) for all solutions for a), b) and c)."
   ]
  },
  {
   "cell_type": "markdown",
   "id": "12cf01af",
   "metadata": {},
   "source": [
    "### c)"
   ]
  },
  {
   "cell_type": "markdown",
   "id": "474f47a5",
   "metadata": {},
   "source": [
    "It made sense to combine all tasks in one so pleas have a look at a) for all solutions for a), b) and c)."
   ]
  }
 ],
 "metadata": {
  "kernelspec": {
   "display_name": "Python 3 (ipykernel)",
   "language": "python",
   "name": "python3"
  },
  "language_info": {
   "codemirror_mode": {
    "name": "ipython",
    "version": 3
   },
   "file_extension": ".py",
   "mimetype": "text/x-python",
   "name": "python",
   "nbconvert_exporter": "python",
   "pygments_lexer": "ipython3",
   "version": "3.10.10"
  }
 },
 "nbformat": 4,
 "nbformat_minor": 5
}
